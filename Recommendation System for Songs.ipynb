{
 "cells": [
  {
   "cell_type": "code",
   "execution_count": 1,
   "metadata": {},
   "outputs": [],
   "source": [
    "import pandas as pd\n",
    "import numpy as np\n",
    "from scipy.spatial.distance import cosine"
   ]
  },
  {
   "cell_type": "code",
   "execution_count": 2,
   "metadata": {},
   "outputs": [],
   "source": [
    "df = pd.read_csv('radio_songs.csv')"
   ]
  },
  {
   "cell_type": "code",
   "execution_count": 3,
   "metadata": {},
   "outputs": [
    {
     "data": {
      "text/html": [
       "<div>\n",
       "<style scoped>\n",
       "    .dataframe tbody tr th:only-of-type {\n",
       "        vertical-align: middle;\n",
       "    }\n",
       "\n",
       "    .dataframe tbody tr th {\n",
       "        vertical-align: top;\n",
       "    }\n",
       "\n",
       "    .dataframe thead th {\n",
       "        text-align: right;\n",
       "    }\n",
       "</style>\n",
       "<table border=\"1\" class=\"dataframe\">\n",
       "  <thead>\n",
       "    <tr style=\"text-align: right;\">\n",
       "      <th></th>\n",
       "      <th>user</th>\n",
       "      <th>abba</th>\n",
       "      <th>ac/dc</th>\n",
       "      <th>adam green</th>\n",
       "      <th>aerosmith</th>\n",
       "      <th>afi</th>\n",
       "      <th>air</th>\n",
       "      <th>alanis morissette</th>\n",
       "      <th>alexisonfire</th>\n",
       "      <th>alicia keys</th>\n",
       "      <th>...</th>\n",
       "      <th>timbaland</th>\n",
       "      <th>tom waits</th>\n",
       "      <th>tool</th>\n",
       "      <th>tori amos</th>\n",
       "      <th>travis</th>\n",
       "      <th>trivium</th>\n",
       "      <th>u2</th>\n",
       "      <th>underoath</th>\n",
       "      <th>volbeat</th>\n",
       "      <th>yann tiersen</th>\n",
       "    </tr>\n",
       "  </thead>\n",
       "  <tbody>\n",
       "    <tr>\n",
       "      <th>0</th>\n",
       "      <td>1</td>\n",
       "      <td>0</td>\n",
       "      <td>0</td>\n",
       "      <td>0</td>\n",
       "      <td>0</td>\n",
       "      <td>0</td>\n",
       "      <td>0</td>\n",
       "      <td>0</td>\n",
       "      <td>0</td>\n",
       "      <td>0</td>\n",
       "      <td>...</td>\n",
       "      <td>0</td>\n",
       "      <td>0</td>\n",
       "      <td>0</td>\n",
       "      <td>0</td>\n",
       "      <td>0</td>\n",
       "      <td>0</td>\n",
       "      <td>0</td>\n",
       "      <td>0</td>\n",
       "      <td>0</td>\n",
       "      <td>0</td>\n",
       "    </tr>\n",
       "    <tr>\n",
       "      <th>1</th>\n",
       "      <td>33</td>\n",
       "      <td>0</td>\n",
       "      <td>0</td>\n",
       "      <td>1</td>\n",
       "      <td>0</td>\n",
       "      <td>0</td>\n",
       "      <td>0</td>\n",
       "      <td>0</td>\n",
       "      <td>0</td>\n",
       "      <td>0</td>\n",
       "      <td>...</td>\n",
       "      <td>0</td>\n",
       "      <td>0</td>\n",
       "      <td>0</td>\n",
       "      <td>0</td>\n",
       "      <td>0</td>\n",
       "      <td>0</td>\n",
       "      <td>0</td>\n",
       "      <td>0</td>\n",
       "      <td>0</td>\n",
       "      <td>0</td>\n",
       "    </tr>\n",
       "    <tr>\n",
       "      <th>2</th>\n",
       "      <td>42</td>\n",
       "      <td>0</td>\n",
       "      <td>0</td>\n",
       "      <td>0</td>\n",
       "      <td>0</td>\n",
       "      <td>0</td>\n",
       "      <td>0</td>\n",
       "      <td>0</td>\n",
       "      <td>0</td>\n",
       "      <td>0</td>\n",
       "      <td>...</td>\n",
       "      <td>0</td>\n",
       "      <td>0</td>\n",
       "      <td>0</td>\n",
       "      <td>0</td>\n",
       "      <td>0</td>\n",
       "      <td>0</td>\n",
       "      <td>0</td>\n",
       "      <td>0</td>\n",
       "      <td>0</td>\n",
       "      <td>0</td>\n",
       "    </tr>\n",
       "    <tr>\n",
       "      <th>3</th>\n",
       "      <td>51</td>\n",
       "      <td>0</td>\n",
       "      <td>0</td>\n",
       "      <td>0</td>\n",
       "      <td>0</td>\n",
       "      <td>0</td>\n",
       "      <td>0</td>\n",
       "      <td>0</td>\n",
       "      <td>0</td>\n",
       "      <td>0</td>\n",
       "      <td>...</td>\n",
       "      <td>0</td>\n",
       "      <td>0</td>\n",
       "      <td>0</td>\n",
       "      <td>0</td>\n",
       "      <td>0</td>\n",
       "      <td>0</td>\n",
       "      <td>0</td>\n",
       "      <td>0</td>\n",
       "      <td>0</td>\n",
       "      <td>0</td>\n",
       "    </tr>\n",
       "    <tr>\n",
       "      <th>4</th>\n",
       "      <td>62</td>\n",
       "      <td>0</td>\n",
       "      <td>0</td>\n",
       "      <td>0</td>\n",
       "      <td>0</td>\n",
       "      <td>0</td>\n",
       "      <td>0</td>\n",
       "      <td>0</td>\n",
       "      <td>0</td>\n",
       "      <td>0</td>\n",
       "      <td>...</td>\n",
       "      <td>0</td>\n",
       "      <td>0</td>\n",
       "      <td>0</td>\n",
       "      <td>0</td>\n",
       "      <td>0</td>\n",
       "      <td>0</td>\n",
       "      <td>0</td>\n",
       "      <td>0</td>\n",
       "      <td>0</td>\n",
       "      <td>0</td>\n",
       "    </tr>\n",
       "  </tbody>\n",
       "</table>\n",
       "<p>5 rows × 285 columns</p>\n",
       "</div>"
      ],
      "text/plain": [
       "   user  abba  ac/dc  adam green  aerosmith  afi  air  alanis morissette  \\\n",
       "0     1     0      0           0          0    0    0                  0   \n",
       "1    33     0      0           1          0    0    0                  0   \n",
       "2    42     0      0           0          0    0    0                  0   \n",
       "3    51     0      0           0          0    0    0                  0   \n",
       "4    62     0      0           0          0    0    0                  0   \n",
       "\n",
       "   alexisonfire  alicia keys  ...  timbaland  tom waits  tool  tori amos  \\\n",
       "0             0            0  ...          0          0     0          0   \n",
       "1             0            0  ...          0          0     0          0   \n",
       "2             0            0  ...          0          0     0          0   \n",
       "3             0            0  ...          0          0     0          0   \n",
       "4             0            0  ...          0          0     0          0   \n",
       "\n",
       "   travis  trivium  u2  underoath  volbeat  yann tiersen  \n",
       "0       0        0   0          0        0             0  \n",
       "1       0        0   0          0        0             0  \n",
       "2       0        0   0          0        0             0  \n",
       "3       0        0   0          0        0             0  \n",
       "4       0        0   0          0        0             0  \n",
       "\n",
       "[5 rows x 285 columns]"
      ]
     },
     "execution_count": 3,
     "metadata": {},
     "output_type": "execute_result"
    }
   ],
   "source": [
    "df.head()"
   ]
  },
  {
   "cell_type": "markdown",
   "metadata": {},
   "source": [
    "## 1. Collaborative Filtering"
   ]
  },
  {
   "cell_type": "markdown",
   "metadata": {},
   "source": [
    "### A. Recommend 10 songs to users who have listened to 'u2' and 'pink floyd'.\n",
    "#### Use item-item collaborative filtering to find songs that are similar using spatial distance with cosine."
   ]
  },
  {
   "cell_type": "markdown",
   "metadata": {},
   "source": [
    "#### Checking Data"
   ]
  },
  {
   "cell_type": "code",
   "execution_count": 4,
   "metadata": {},
   "outputs": [
    {
     "name": "stdout",
     "output_type": "stream",
     "text": [
      "We have 100 users with 284 songs.\n"
     ]
    }
   ],
   "source": [
    "print('We have 100 users with 284 songs.')"
   ]
  },
  {
   "cell_type": "code",
   "execution_count": 5,
   "metadata": {},
   "outputs": [
    {
     "data": {
      "text/plain": [
       "0    96\n",
       "1     4\n",
       "Name: u2, dtype: int64"
      ]
     },
     "execution_count": 5,
     "metadata": {},
     "output_type": "execute_result"
    }
   ],
   "source": [
    "df['u2'].value_counts()"
   ]
  },
  {
   "cell_type": "code",
   "execution_count": 6,
   "metadata": {},
   "outputs": [
    {
     "data": {
      "text/plain": [
       "0    97\n",
       "1     3\n",
       "Name: pink floyd, dtype: int64"
      ]
     },
     "execution_count": 6,
     "metadata": {},
     "output_type": "execute_result"
    }
   ],
   "source": [
    "df['pink floyd'].value_counts()"
   ]
  },
  {
   "cell_type": "code",
   "execution_count": 7,
   "metadata": {},
   "outputs": [],
   "source": [
    "df1 = df.copy()\n",
    "df1['Target'] = df['u2']+df['pink floyd']"
   ]
  },
  {
   "cell_type": "code",
   "execution_count": 8,
   "metadata": {},
   "outputs": [
    {
     "data": {
      "text/plain": [
       "0    93\n",
       "1     7\n",
       "Name: Target, dtype: int64"
      ]
     },
     "execution_count": 8,
     "metadata": {},
     "output_type": "execute_result"
    }
   ],
   "source": [
    "df1['Target'].value_counts()"
   ]
  },
  {
   "cell_type": "code",
   "execution_count": 9,
   "metadata": {},
   "outputs": [
    {
     "name": "stdout",
     "output_type": "stream",
     "text": [
      "After checking, we can see that there is no user who have listened to u2 and pink floyd. So we will find the users that have listened us or pink floyd to build the recommnedation system.\n"
     ]
    }
   ],
   "source": [
    "print('After checking, we can see that there is no user who have listened to u2 and pink floyd. So we will find the users that have listened us or pink floyd to build the recommnedation system.')"
   ]
  },
  {
   "cell_type": "markdown",
   "metadata": {},
   "source": [
    "#### Calculate Similarity"
   ]
  },
  {
   "cell_type": "code",
   "execution_count": 10,
   "metadata": {},
   "outputs": [],
   "source": [
    "# df1.columns.get_loc(\"u2\")\n",
    "# df1.columns.get_loc(\"pink floyd\")"
   ]
  },
  {
   "cell_type": "code",
   "execution_count": 11,
   "metadata": {},
   "outputs": [
    {
     "data": {
      "text/html": [
       "<div>\n",
       "<style scoped>\n",
       "    .dataframe tbody tr th:only-of-type {\n",
       "        vertical-align: middle;\n",
       "    }\n",
       "\n",
       "    .dataframe tbody tr th {\n",
       "        vertical-align: top;\n",
       "    }\n",
       "\n",
       "    .dataframe thead th {\n",
       "        text-align: right;\n",
       "    }\n",
       "</style>\n",
       "<table border=\"1\" class=\"dataframe\">\n",
       "  <thead>\n",
       "    <tr style=\"text-align: right;\">\n",
       "      <th></th>\n",
       "      <th>abba</th>\n",
       "      <th>ac/dc</th>\n",
       "      <th>adam green</th>\n",
       "      <th>aerosmith</th>\n",
       "      <th>afi</th>\n",
       "      <th>air</th>\n",
       "      <th>alanis morissette</th>\n",
       "      <th>alexisonfire</th>\n",
       "      <th>alicia keys</th>\n",
       "      <th>all that remains</th>\n",
       "      <th>...</th>\n",
       "      <th>three days grace</th>\n",
       "      <th>timbaland</th>\n",
       "      <th>tom waits</th>\n",
       "      <th>tool</th>\n",
       "      <th>tori amos</th>\n",
       "      <th>travis</th>\n",
       "      <th>trivium</th>\n",
       "      <th>underoath</th>\n",
       "      <th>volbeat</th>\n",
       "      <th>yann tiersen</th>\n",
       "    </tr>\n",
       "  </thead>\n",
       "  <tbody>\n",
       "    <tr>\n",
       "      <th>0</th>\n",
       "      <td>0</td>\n",
       "      <td>0</td>\n",
       "      <td>0</td>\n",
       "      <td>0</td>\n",
       "      <td>0</td>\n",
       "      <td>0</td>\n",
       "      <td>0</td>\n",
       "      <td>0</td>\n",
       "      <td>0</td>\n",
       "      <td>0</td>\n",
       "      <td>...</td>\n",
       "      <td>0</td>\n",
       "      <td>0</td>\n",
       "      <td>0</td>\n",
       "      <td>0</td>\n",
       "      <td>0</td>\n",
       "      <td>0</td>\n",
       "      <td>0</td>\n",
       "      <td>0</td>\n",
       "      <td>0</td>\n",
       "      <td>0</td>\n",
       "    </tr>\n",
       "    <tr>\n",
       "      <th>1</th>\n",
       "      <td>0</td>\n",
       "      <td>0</td>\n",
       "      <td>1</td>\n",
       "      <td>0</td>\n",
       "      <td>0</td>\n",
       "      <td>0</td>\n",
       "      <td>0</td>\n",
       "      <td>0</td>\n",
       "      <td>0</td>\n",
       "      <td>0</td>\n",
       "      <td>...</td>\n",
       "      <td>1</td>\n",
       "      <td>0</td>\n",
       "      <td>0</td>\n",
       "      <td>0</td>\n",
       "      <td>0</td>\n",
       "      <td>0</td>\n",
       "      <td>0</td>\n",
       "      <td>0</td>\n",
       "      <td>0</td>\n",
       "      <td>0</td>\n",
       "    </tr>\n",
       "    <tr>\n",
       "      <th>2</th>\n",
       "      <td>0</td>\n",
       "      <td>0</td>\n",
       "      <td>0</td>\n",
       "      <td>0</td>\n",
       "      <td>0</td>\n",
       "      <td>0</td>\n",
       "      <td>0</td>\n",
       "      <td>0</td>\n",
       "      <td>0</td>\n",
       "      <td>0</td>\n",
       "      <td>...</td>\n",
       "      <td>0</td>\n",
       "      <td>0</td>\n",
       "      <td>0</td>\n",
       "      <td>0</td>\n",
       "      <td>0</td>\n",
       "      <td>0</td>\n",
       "      <td>0</td>\n",
       "      <td>0</td>\n",
       "      <td>0</td>\n",
       "      <td>0</td>\n",
       "    </tr>\n",
       "    <tr>\n",
       "      <th>3</th>\n",
       "      <td>0</td>\n",
       "      <td>0</td>\n",
       "      <td>0</td>\n",
       "      <td>0</td>\n",
       "      <td>0</td>\n",
       "      <td>0</td>\n",
       "      <td>0</td>\n",
       "      <td>0</td>\n",
       "      <td>0</td>\n",
       "      <td>0</td>\n",
       "      <td>...</td>\n",
       "      <td>0</td>\n",
       "      <td>0</td>\n",
       "      <td>0</td>\n",
       "      <td>0</td>\n",
       "      <td>0</td>\n",
       "      <td>0</td>\n",
       "      <td>0</td>\n",
       "      <td>0</td>\n",
       "      <td>0</td>\n",
       "      <td>0</td>\n",
       "    </tr>\n",
       "    <tr>\n",
       "      <th>4</th>\n",
       "      <td>0</td>\n",
       "      <td>0</td>\n",
       "      <td>0</td>\n",
       "      <td>0</td>\n",
       "      <td>0</td>\n",
       "      <td>0</td>\n",
       "      <td>0</td>\n",
       "      <td>0</td>\n",
       "      <td>0</td>\n",
       "      <td>0</td>\n",
       "      <td>...</td>\n",
       "      <td>0</td>\n",
       "      <td>0</td>\n",
       "      <td>0</td>\n",
       "      <td>0</td>\n",
       "      <td>0</td>\n",
       "      <td>0</td>\n",
       "      <td>0</td>\n",
       "      <td>0</td>\n",
       "      <td>0</td>\n",
       "      <td>0</td>\n",
       "    </tr>\n",
       "  </tbody>\n",
       "</table>\n",
       "<p>5 rows × 282 columns</p>\n",
       "</div>"
      ],
      "text/plain": [
       "   abba  ac/dc  adam green  aerosmith  afi  air  alanis morissette  \\\n",
       "0     0      0           0          0    0    0                  0   \n",
       "1     0      0           1          0    0    0                  0   \n",
       "2     0      0           0          0    0    0                  0   \n",
       "3     0      0           0          0    0    0                  0   \n",
       "4     0      0           0          0    0    0                  0   \n",
       "\n",
       "   alexisonfire  alicia keys  all that remains  ...  three days grace  \\\n",
       "0             0            0                 0  ...                 0   \n",
       "1             0            0                 0  ...                 1   \n",
       "2             0            0                 0  ...                 0   \n",
       "3             0            0                 0  ...                 0   \n",
       "4             0            0                 0  ...                 0   \n",
       "\n",
       "   timbaland  tom waits  tool  tori amos  travis  trivium  underoath  volbeat  \\\n",
       "0          0          0     0          0       0        0          0        0   \n",
       "1          0          0     0          0       0        0          0        0   \n",
       "2          0          0     0          0       0        0          0        0   \n",
       "3          0          0     0          0       0        0          0        0   \n",
       "4          0          0     0          0       0        0          0        0   \n",
       "\n",
       "   yann tiersen  \n",
       "0             0  \n",
       "1             0  \n",
       "2             0  \n",
       "3             0  \n",
       "4             0  \n",
       "\n",
       "[5 rows x 282 columns]"
      ]
     },
     "execution_count": 11,
     "metadata": {},
     "output_type": "execute_result"
    }
   ],
   "source": [
    "X = df.copy()\n",
    "X.drop(['user','u2','pink floyd'],axis = 1, inplace = True)\n",
    "X.head()"
   ]
  },
  {
   "cell_type": "code",
   "execution_count": 12,
   "metadata": {},
   "outputs": [],
   "source": [
    "u2_vector = df['u2']\n",
    "pf_vector = df['pink floyd']"
   ]
  },
  {
   "cell_type": "code",
   "execution_count": 13,
   "metadata": {},
   "outputs": [
    {
     "name": "stderr",
     "output_type": "stream",
     "text": [
      "/Users/apple/opt/anaconda3/lib/python3.7/site-packages/scipy/spatial/distance.py:720: RuntimeWarning: invalid value encountered in double_scalars\n",
      "  dist = 1.0 - uv / np.sqrt(uu * vv)\n"
     ]
    }
   ],
   "source": [
    "u2_sim = []\n",
    "\n",
    "for i in range(0,282):\n",
    "    item1 = u2_vector\n",
    "    item2 = X.iloc[:,i]\n",
    "    similarity = 1 - cosine(item1, item2)\n",
    "    u2_sim.append(similarity)"
   ]
  },
  {
   "cell_type": "code",
   "execution_count": 14,
   "metadata": {},
   "outputs": [
    {
     "data": {
      "text/html": [
       "<div>\n",
       "<style scoped>\n",
       "    .dataframe tbody tr th:only-of-type {\n",
       "        vertical-align: middle;\n",
       "    }\n",
       "\n",
       "    .dataframe tbody tr th {\n",
       "        vertical-align: top;\n",
       "    }\n",
       "\n",
       "    .dataframe thead th {\n",
       "        text-align: right;\n",
       "    }\n",
       "</style>\n",
       "<table border=\"1\" class=\"dataframe\">\n",
       "  <thead>\n",
       "    <tr style=\"text-align: right;\">\n",
       "      <th></th>\n",
       "      <th>song</th>\n",
       "      <th>similarity</th>\n",
       "    </tr>\n",
       "  </thead>\n",
       "  <tbody>\n",
       "    <tr>\n",
       "      <th>219</th>\n",
       "      <td>robbie williams</td>\n",
       "      <td>0.500000</td>\n",
       "    </tr>\n",
       "    <tr>\n",
       "      <th>176</th>\n",
       "      <td>misfits</td>\n",
       "      <td>0.500000</td>\n",
       "    </tr>\n",
       "    <tr>\n",
       "      <th>111</th>\n",
       "      <td>green day</td>\n",
       "      <td>0.433013</td>\n",
       "    </tr>\n",
       "    <tr>\n",
       "      <th>71</th>\n",
       "      <td>depeche mode</td>\n",
       "      <td>0.408248</td>\n",
       "    </tr>\n",
       "    <tr>\n",
       "      <th>201</th>\n",
       "      <td>peter fox</td>\n",
       "      <td>0.377964</td>\n",
       "    </tr>\n",
       "    <tr>\n",
       "      <th>90</th>\n",
       "      <td>enter shikari</td>\n",
       "      <td>0.353553</td>\n",
       "    </tr>\n",
       "    <tr>\n",
       "      <th>164</th>\n",
       "      <td>madonna</td>\n",
       "      <td>0.353553</td>\n",
       "    </tr>\n",
       "    <tr>\n",
       "      <th>136</th>\n",
       "      <td>johnny cash</td>\n",
       "      <td>0.353553</td>\n",
       "    </tr>\n",
       "    <tr>\n",
       "      <th>77</th>\n",
       "      <td>dire straits</td>\n",
       "      <td>0.353553</td>\n",
       "    </tr>\n",
       "    <tr>\n",
       "      <th>148</th>\n",
       "      <td>kelly clarkson</td>\n",
       "      <td>0.353553</td>\n",
       "    </tr>\n",
       "  </tbody>\n",
       "</table>\n",
       "</div>"
      ],
      "text/plain": [
       "                song  similarity\n",
       "219  robbie williams    0.500000\n",
       "176          misfits    0.500000\n",
       "111        green day    0.433013\n",
       "71      depeche mode    0.408248\n",
       "201        peter fox    0.377964\n",
       "90     enter shikari    0.353553\n",
       "164          madonna    0.353553\n",
       "136      johnny cash    0.353553\n",
       "77      dire straits    0.353553\n",
       "148   kelly clarkson    0.353553"
      ]
     },
     "execution_count": 14,
     "metadata": {},
     "output_type": "execute_result"
    }
   ],
   "source": [
    "u2_sim_df = pd.DataFrame({'song': X.columns,\n",
    "                         'similarity': u2_sim})\n",
    "u2_sim_df.sort_values(by='similarity', ascending = False).iloc[:10]"
   ]
  },
  {
   "cell_type": "code",
   "execution_count": 15,
   "metadata": {},
   "outputs": [
    {
     "name": "stderr",
     "output_type": "stream",
     "text": [
      "/Users/apple/opt/anaconda3/lib/python3.7/site-packages/scipy/spatial/distance.py:720: RuntimeWarning: invalid value encountered in double_scalars\n",
      "  dist = 1.0 - uv / np.sqrt(uu * vv)\n"
     ]
    }
   ],
   "source": [
    "pf_sim = []\n",
    "\n",
    "for i in range(0,282):\n",
    "    item1 = pf_vector\n",
    "    item2 = X.iloc[:,i]\n",
    "    similarity = 1 - cosine(item1, item2)\n",
    "    pf_sim.append(similarity)"
   ]
  },
  {
   "cell_type": "code",
   "execution_count": 16,
   "metadata": {},
   "outputs": [
    {
     "data": {
      "text/html": [
       "<div>\n",
       "<style scoped>\n",
       "    .dataframe tbody tr th:only-of-type {\n",
       "        vertical-align: middle;\n",
       "    }\n",
       "\n",
       "    .dataframe tbody tr th {\n",
       "        vertical-align: top;\n",
       "    }\n",
       "\n",
       "    .dataframe thead th {\n",
       "        text-align: right;\n",
       "    }\n",
       "</style>\n",
       "<table border=\"1\" class=\"dataframe\">\n",
       "  <thead>\n",
       "    <tr style=\"text-align: right;\">\n",
       "      <th></th>\n",
       "      <th>song</th>\n",
       "      <th>similarity</th>\n",
       "    </tr>\n",
       "  </thead>\n",
       "  <tbody>\n",
       "    <tr>\n",
       "      <th>105</th>\n",
       "      <td>genesis</td>\n",
       "      <td>0.577350</td>\n",
       "    </tr>\n",
       "    <tr>\n",
       "      <th>65</th>\n",
       "      <td>david bowie</td>\n",
       "      <td>0.408248</td>\n",
       "    </tr>\n",
       "    <tr>\n",
       "      <th>156</th>\n",
       "      <td>led zeppelin</td>\n",
       "      <td>0.408248</td>\n",
       "    </tr>\n",
       "    <tr>\n",
       "      <th>104</th>\n",
       "      <td>funeral for a friend</td>\n",
       "      <td>0.408248</td>\n",
       "    </tr>\n",
       "    <tr>\n",
       "      <th>116</th>\n",
       "      <td>hans zimmer</td>\n",
       "      <td>0.408248</td>\n",
       "    </tr>\n",
       "    <tr>\n",
       "      <th>206</th>\n",
       "      <td>queen</td>\n",
       "      <td>0.408248</td>\n",
       "    </tr>\n",
       "    <tr>\n",
       "      <th>232</th>\n",
       "      <td>sonic syndicate</td>\n",
       "      <td>0.408248</td>\n",
       "    </tr>\n",
       "    <tr>\n",
       "      <th>59</th>\n",
       "      <td>coldplay</td>\n",
       "      <td>0.348155</td>\n",
       "    </tr>\n",
       "    <tr>\n",
       "      <th>168</th>\n",
       "      <td>maria mena</td>\n",
       "      <td>0.333333</td>\n",
       "    </tr>\n",
       "    <tr>\n",
       "      <th>42</th>\n",
       "      <td>bob dylan</td>\n",
       "      <td>0.333333</td>\n",
       "    </tr>\n",
       "  </tbody>\n",
       "</table>\n",
       "</div>"
      ],
      "text/plain": [
       "                     song  similarity\n",
       "105               genesis    0.577350\n",
       "65            david bowie    0.408248\n",
       "156          led zeppelin    0.408248\n",
       "104  funeral for a friend    0.408248\n",
       "116           hans zimmer    0.408248\n",
       "206                 queen    0.408248\n",
       "232       sonic syndicate    0.408248\n",
       "59               coldplay    0.348155\n",
       "168            maria mena    0.333333\n",
       "42              bob dylan    0.333333"
      ]
     },
     "execution_count": 16,
     "metadata": {},
     "output_type": "execute_result"
    }
   ],
   "source": [
    "pf_sim_df = pd.DataFrame({'song': X.columns,\n",
    "                         'similarity': pf_sim})\n",
    "pf_sim_df.sort_values(by='similarity', ascending = False).iloc[:10]"
   ]
  },
  {
   "cell_type": "code",
   "execution_count": 17,
   "metadata": {},
   "outputs": [
    {
     "data": {
      "text/plain": [
       "[['robbie williams',\n",
       "  'misfits',\n",
       "  'green day',\n",
       "  'depeche mode',\n",
       "  'peter fox',\n",
       "  'genesis',\n",
       "  'david bowie',\n",
       "  'led zeppelin',\n",
       "  'funeral for a friend',\n",
       "  'hans zimmer']]"
      ]
     },
     "execution_count": 17,
     "metadata": {},
     "output_type": "execute_result"
    }
   ],
   "source": [
    "ten_songs = [list(u2_sim_df.sort_values(by='similarity', ascending = False).iloc[:5,0])+\n",
    "     list(pf_sim_df.sort_values(by='similarity', ascending = False).iloc[:5,0])]\n",
    "ten_songs"
   ]
  },
  {
   "cell_type": "markdown",
   "metadata": {},
   "source": [
    "### B. Find user most similar to user 1606. Use user-user collaborative filtering with cosine similarity. List the recommended songs for user 1606 \n",
    "#### (Hint: find the songs listened to by the most similar user)."
   ]
  },
  {
   "cell_type": "code",
   "execution_count": 18,
   "metadata": {},
   "outputs": [
    {
     "data": {
      "text/html": [
       "<div>\n",
       "<style scoped>\n",
       "    .dataframe tbody tr th:only-of-type {\n",
       "        vertical-align: middle;\n",
       "    }\n",
       "\n",
       "    .dataframe tbody tr th {\n",
       "        vertical-align: top;\n",
       "    }\n",
       "\n",
       "    .dataframe thead th {\n",
       "        text-align: right;\n",
       "    }\n",
       "</style>\n",
       "<table border=\"1\" class=\"dataframe\">\n",
       "  <thead>\n",
       "    <tr style=\"text-align: right;\">\n",
       "      <th></th>\n",
       "      <th>user</th>\n",
       "      <th>abba</th>\n",
       "      <th>ac/dc</th>\n",
       "      <th>adam green</th>\n",
       "      <th>aerosmith</th>\n",
       "      <th>afi</th>\n",
       "      <th>air</th>\n",
       "      <th>alanis morissette</th>\n",
       "      <th>alexisonfire</th>\n",
       "      <th>alicia keys</th>\n",
       "      <th>...</th>\n",
       "      <th>timbaland</th>\n",
       "      <th>tom waits</th>\n",
       "      <th>tool</th>\n",
       "      <th>tori amos</th>\n",
       "      <th>travis</th>\n",
       "      <th>trivium</th>\n",
       "      <th>u2</th>\n",
       "      <th>underoath</th>\n",
       "      <th>volbeat</th>\n",
       "      <th>yann tiersen</th>\n",
       "    </tr>\n",
       "  </thead>\n",
       "  <tbody>\n",
       "    <tr>\n",
       "      <th>99</th>\n",
       "      <td>1606</td>\n",
       "      <td>1</td>\n",
       "      <td>0</td>\n",
       "      <td>0</td>\n",
       "      <td>0</td>\n",
       "      <td>0</td>\n",
       "      <td>0</td>\n",
       "      <td>0</td>\n",
       "      <td>0</td>\n",
       "      <td>0</td>\n",
       "      <td>...</td>\n",
       "      <td>0</td>\n",
       "      <td>0</td>\n",
       "      <td>0</td>\n",
       "      <td>0</td>\n",
       "      <td>0</td>\n",
       "      <td>0</td>\n",
       "      <td>0</td>\n",
       "      <td>0</td>\n",
       "      <td>0</td>\n",
       "      <td>0</td>\n",
       "    </tr>\n",
       "  </tbody>\n",
       "</table>\n",
       "<p>1 rows × 285 columns</p>\n",
       "</div>"
      ],
      "text/plain": [
       "    user  abba  ac/dc  adam green  aerosmith  afi  air  alanis morissette  \\\n",
       "99  1606     1      0           0          0    0    0                  0   \n",
       "\n",
       "    alexisonfire  alicia keys  ...  timbaland  tom waits  tool  tori amos  \\\n",
       "99             0            0  ...          0          0     0          0   \n",
       "\n",
       "    travis  trivium  u2  underoath  volbeat  yann tiersen  \n",
       "99       0        0   0          0        0             0  \n",
       "\n",
       "[1 rows x 285 columns]"
      ]
     },
     "execution_count": 18,
     "metadata": {},
     "output_type": "execute_result"
    }
   ],
   "source": [
    "df[df['user'] == 1606]"
   ]
  },
  {
   "cell_type": "code",
   "execution_count": 19,
   "metadata": {},
   "outputs": [
    {
     "data": {
      "text/plain": [
       "(99, 285)"
      ]
     },
     "execution_count": 19,
     "metadata": {},
     "output_type": "execute_result"
    }
   ],
   "source": [
    "user_X = df.copy()\n",
    "user_X.drop(labels=99,axis = 0, inplace = True)\n",
    "user_X.shape"
   ]
  },
  {
   "cell_type": "code",
   "execution_count": 20,
   "metadata": {},
   "outputs": [],
   "source": [
    "user_y = df.iloc[99,1:]"
   ]
  },
  {
   "cell_type": "code",
   "execution_count": 21,
   "metadata": {},
   "outputs": [
    {
     "name": "stderr",
     "output_type": "stream",
     "text": [
      "/Users/apple/opt/anaconda3/lib/python3.7/site-packages/scipy/spatial/distance.py:720: RuntimeWarning: invalid value encountered in double_scalars\n",
      "  dist = 1.0 - uv / np.sqrt(uu * vv)\n"
     ]
    }
   ],
   "source": [
    "user_sim = []\n",
    "\n",
    "for i in range(0,99):\n",
    "    item1 = user_y\n",
    "    item2 = user_X.iloc[i,1:]\n",
    "    similarity = 1 - cosine(item1, item2)\n",
    "    user_sim.append(similarity)"
   ]
  },
  {
   "cell_type": "code",
   "execution_count": 22,
   "metadata": {},
   "outputs": [
    {
     "data": {
      "text/html": [
       "<div>\n",
       "<style scoped>\n",
       "    .dataframe tbody tr th:only-of-type {\n",
       "        vertical-align: middle;\n",
       "    }\n",
       "\n",
       "    .dataframe tbody tr th {\n",
       "        vertical-align: top;\n",
       "    }\n",
       "\n",
       "    .dataframe thead th {\n",
       "        text-align: right;\n",
       "    }\n",
       "</style>\n",
       "<table border=\"1\" class=\"dataframe\">\n",
       "  <thead>\n",
       "    <tr style=\"text-align: right;\">\n",
       "      <th></th>\n",
       "      <th>user</th>\n",
       "      <th>similarity</th>\n",
       "    </tr>\n",
       "  </thead>\n",
       "  <tbody>\n",
       "    <tr>\n",
       "      <th>65</th>\n",
       "      <td>1144</td>\n",
       "      <td>0.277350</td>\n",
       "    </tr>\n",
       "    <tr>\n",
       "      <th>8</th>\n",
       "      <td>144</td>\n",
       "      <td>0.223607</td>\n",
       "    </tr>\n",
       "    <tr>\n",
       "      <th>79</th>\n",
       "      <td>1334</td>\n",
       "      <td>0.150756</td>\n",
       "    </tr>\n",
       "    <tr>\n",
       "      <th>89</th>\n",
       "      <td>1509</td>\n",
       "      <td>0.144338</td>\n",
       "    </tr>\n",
       "    <tr>\n",
       "      <th>45</th>\n",
       "      <td>890</td>\n",
       "      <td>0.129099</td>\n",
       "    </tr>\n",
       "  </tbody>\n",
       "</table>\n",
       "</div>"
      ],
      "text/plain": [
       "    user  similarity\n",
       "65  1144    0.277350\n",
       "8    144    0.223607\n",
       "79  1334    0.150756\n",
       "89  1509    0.144338\n",
       "45   890    0.129099"
      ]
     },
     "execution_count": 22,
     "metadata": {},
     "output_type": "execute_result"
    }
   ],
   "source": [
    "user_sim_df = pd.DataFrame({'user': user_X['user'],\n",
    "                         'similarity': user_sim})\n",
    "user_sim_df.sort_values(by='similarity', ascending = False).iloc[:5]"
   ]
  },
  {
   "cell_type": "code",
   "execution_count": 23,
   "metadata": {},
   "outputs": [
    {
     "data": {
      "text/html": [
       "<div>\n",
       "<style scoped>\n",
       "    .dataframe tbody tr th:only-of-type {\n",
       "        vertical-align: middle;\n",
       "    }\n",
       "\n",
       "    .dataframe tbody tr th {\n",
       "        vertical-align: top;\n",
       "    }\n",
       "\n",
       "    .dataframe thead th {\n",
       "        text-align: right;\n",
       "    }\n",
       "</style>\n",
       "<table border=\"1\" class=\"dataframe\">\n",
       "  <thead>\n",
       "    <tr style=\"text-align: right;\">\n",
       "      <th></th>\n",
       "      <th>65</th>\n",
       "    </tr>\n",
       "  </thead>\n",
       "  <tbody>\n",
       "    <tr>\n",
       "      <th>beastie boys</th>\n",
       "      <td>1</td>\n",
       "    </tr>\n",
       "    <tr>\n",
       "      <th>bob dylan</th>\n",
       "      <td>1</td>\n",
       "    </tr>\n",
       "    <tr>\n",
       "      <th>bob marley &amp; the wailers</th>\n",
       "      <td>1</td>\n",
       "    </tr>\n",
       "    <tr>\n",
       "      <th>david bowie</th>\n",
       "      <td>1</td>\n",
       "    </tr>\n",
       "    <tr>\n",
       "      <th>elvis presley</th>\n",
       "      <td>1</td>\n",
       "    </tr>\n",
       "    <tr>\n",
       "      <th>eric clapton</th>\n",
       "      <td>1</td>\n",
       "    </tr>\n",
       "    <tr>\n",
       "      <th>johnny cash</th>\n",
       "      <td>1</td>\n",
       "    </tr>\n",
       "    <tr>\n",
       "      <th>pearl jam</th>\n",
       "      <td>1</td>\n",
       "    </tr>\n",
       "    <tr>\n",
       "      <th>pink floyd</th>\n",
       "      <td>1</td>\n",
       "    </tr>\n",
       "    <tr>\n",
       "      <th>the beatles</th>\n",
       "      <td>1</td>\n",
       "    </tr>\n",
       "    <tr>\n",
       "      <th>the doors</th>\n",
       "      <td>1</td>\n",
       "    </tr>\n",
       "    <tr>\n",
       "      <th>the rolling stones</th>\n",
       "      <td>1</td>\n",
       "    </tr>\n",
       "    <tr>\n",
       "      <th>tom waits</th>\n",
       "      <td>1</td>\n",
       "    </tr>\n",
       "  </tbody>\n",
       "</table>\n",
       "</div>"
      ],
      "text/plain": [
       "                          65\n",
       "beastie boys               1\n",
       "bob dylan                  1\n",
       "bob marley & the wailers   1\n",
       "david bowie                1\n",
       "elvis presley              1\n",
       "eric clapton               1\n",
       "johnny cash                1\n",
       "pearl jam                  1\n",
       "pink floyd                 1\n",
       "the beatles                1\n",
       "the doors                  1\n",
       "the rolling stones         1\n",
       "tom waits                  1"
      ]
     },
     "execution_count": 23,
     "metadata": {},
     "output_type": "execute_result"
    }
   ],
   "source": [
    "user1144 = df[df.user == 1144].T\n",
    "user1144[user1144.iloc[:,0] == 1]"
   ]
  },
  {
   "cell_type": "code",
   "execution_count": 24,
   "metadata": {},
   "outputs": [
    {
     "name": "stdout",
     "output_type": "stream",
     "text": [
      "The recommended songs for user 1606 are: \n"
     ]
    },
    {
     "data": {
      "text/plain": [
       "['beastie boys',\n",
       " 'bob dylan',\n",
       " 'bob marley & the wailers',\n",
       " 'david bowie',\n",
       " 'elvis presley',\n",
       " 'eric clapton',\n",
       " 'johnny cash',\n",
       " 'pearl jam',\n",
       " 'pink floyd',\n",
       " 'the beatles',\n",
       " 'the doors',\n",
       " 'the rolling stones',\n",
       " 'tom waits']"
      ]
     },
     "execution_count": 24,
     "metadata": {},
     "output_type": "execute_result"
    }
   ],
   "source": [
    "print('The recommended songs for user 1606 are: ') \n",
    "list(user1144[user1144.iloc[:,0] == 1].index)"
   ]
  },
  {
   "cell_type": "markdown",
   "metadata": {},
   "source": [
    "### C. How many of the recommended songs has already been listened to by user 1606?"
   ]
  },
  {
   "cell_type": "code",
   "execution_count": 25,
   "metadata": {},
   "outputs": [
    {
     "data": {
      "text/html": [
       "<div>\n",
       "<style scoped>\n",
       "    .dataframe tbody tr th:only-of-type {\n",
       "        vertical-align: middle;\n",
       "    }\n",
       "\n",
       "    .dataframe tbody tr th {\n",
       "        vertical-align: top;\n",
       "    }\n",
       "\n",
       "    .dataframe thead th {\n",
       "        text-align: right;\n",
       "    }\n",
       "</style>\n",
       "<table border=\"1\" class=\"dataframe\">\n",
       "  <thead>\n",
       "    <tr style=\"text-align: right;\">\n",
       "      <th></th>\n",
       "      <th>99</th>\n",
       "    </tr>\n",
       "  </thead>\n",
       "  <tbody>\n",
       "    <tr>\n",
       "      <th>abba</th>\n",
       "      <td>1</td>\n",
       "    </tr>\n",
       "    <tr>\n",
       "      <th>elvis presley</th>\n",
       "      <td>1</td>\n",
       "    </tr>\n",
       "    <tr>\n",
       "      <th>frank sinatra</th>\n",
       "      <td>1</td>\n",
       "    </tr>\n",
       "    <tr>\n",
       "      <th>the beatles</th>\n",
       "      <td>1</td>\n",
       "    </tr>\n",
       "  </tbody>\n",
       "</table>\n",
       "</div>"
      ],
      "text/plain": [
       "               99\n",
       "abba            1\n",
       "elvis presley   1\n",
       "frank sinatra   1\n",
       "the beatles     1"
      ]
     },
     "execution_count": 25,
     "metadata": {},
     "output_type": "execute_result"
    }
   ],
   "source": [
    "user1606 = df[df.user == 1606].T\n",
    "user1606[user1606.iloc[:,0] == 1]"
   ]
  },
  {
   "cell_type": "code",
   "execution_count": 26,
   "metadata": {},
   "outputs": [],
   "source": [
    "user1144_song = list(user1144[user1144.iloc[:,0] == 1].index)\n",
    "user1606_song = list(user1606[user1606.iloc[:,0] == 1].index)"
   ]
  },
  {
   "cell_type": "code",
   "execution_count": 27,
   "metadata": {},
   "outputs": [],
   "source": [
    "listened = []\n",
    "\n",
    "for i in range(0, len(user1606_song)):\n",
    "    check = user1606_song[i] in user1144_song\n",
    "    if check == True:\n",
    "        listened.append(user1606_song[i])"
   ]
  },
  {
   "cell_type": "code",
   "execution_count": 28,
   "metadata": {},
   "outputs": [
    {
     "data": {
      "text/plain": [
       "['elvis presley', 'the beatles']"
      ]
     },
     "execution_count": 28,
     "metadata": {},
     "output_type": "execute_result"
    }
   ],
   "source": [
    "listened"
   ]
  },
  {
   "cell_type": "code",
   "execution_count": 29,
   "metadata": {},
   "outputs": [
    {
     "name": "stdout",
     "output_type": "stream",
     "text": [
      "User 1606 has already listened  ['elvis presley', 'the beatles']\n"
     ]
    }
   ],
   "source": [
    "print('User 1606 has already listened ',listened)"
   ]
  },
  {
   "cell_type": "markdown",
   "metadata": {},
   "source": [
    "### D. Use a combination of user-item approach to build a recommendation score for each song for each user using the following steps for each user-"
   ]
  },
  {
   "cell_type": "markdown",
   "metadata": {},
   "source": [
    "#### 1. For each song for the user row, get the top 10 similar songs and their similarity score."
   ]
  },
  {
   "cell_type": "code",
   "execution_count": 30,
   "metadata": {},
   "outputs": [
    {
     "name": "stderr",
     "output_type": "stream",
     "text": [
      "/Users/apple/opt/anaconda3/lib/python3.7/site-packages/scipy/spatial/distance.py:720: RuntimeWarning: invalid value encountered in double_scalars\n",
      "  dist = 1.0 - uv / np.sqrt(uu * vv)\n"
     ]
    }
   ],
   "source": [
    "song_sim_list = []\n",
    "song_sim_cal = []\n",
    "\n",
    "for song in range(1,285):\n",
    "    song_name = df.columns[song]\n",
    "    song_sim_sub = []\n",
    "    \n",
    "    song_X = df.copy()\n",
    "    song_X.drop(['user',song_name],axis = 1, inplace = True)\n",
    "    song_y = df[song_name]\n",
    "    \n",
    "    for other_song in range(0,283):  \n",
    "        item1 = song_y\n",
    "        item2 = song_X.iloc[:,other_song]\n",
    "        similarity = 1 - cosine(item1, item2)\n",
    "        song_sim_sub.append(similarity)\n",
    "    \n",
    "    song_sim_sub_df = pd.DataFrame({'song': song_X.columns,'similarity': song_sim_sub})\n",
    "    song_sim_sub_df = song_sim_sub_df.sort_values(by='similarity', ascending = False)\n",
    "\n",
    "    song_sim_list.append(list(song_sim_sub_df.iloc[:10,0]))\n",
    "    song_sim_cal.append(list(song_sim_sub_df.iloc[:10,1]))"
   ]
  },
  {
   "cell_type": "code",
   "execution_count": 31,
   "metadata": {},
   "outputs": [
    {
     "data": {
      "text/plain": [
       "['robbie williams',\n",
       " 'misfits',\n",
       " 'green day',\n",
       " 'depeche mode',\n",
       " 'peter fox',\n",
       " 'dire straits',\n",
       " 'kelly clarkson',\n",
       " 'madonna',\n",
       " 'johnny cash',\n",
       " 'enter shikari']"
      ]
     },
     "execution_count": 31,
     "metadata": {},
     "output_type": "execute_result"
    }
   ],
   "source": [
    "## Checking the result:\n",
    "song_sim_list[df1.columns.get_loc(\"u2\")-1]"
   ]
  },
  {
   "cell_type": "code",
   "execution_count": 32,
   "metadata": {},
   "outputs": [
    {
     "data": {
      "text/plain": [
       "[0.5,\n",
       " 0.5,\n",
       " 0.4330127018922193,\n",
       " 0.40824829046386313,\n",
       " 0.3779644730092272,\n",
       " 0.35355339059327373,\n",
       " 0.35355339059327373,\n",
       " 0.35355339059327373,\n",
       " 0.35355339059327373,\n",
       " 0.35355339059327373]"
      ]
     },
     "execution_count": 32,
     "metadata": {},
     "output_type": "execute_result"
    }
   ],
   "source": [
    "## Checking the result:\n",
    "song_sim_cal[df1.columns.get_loc(\"u2\")-1]"
   ]
  },
  {
   "cell_type": "markdown",
   "metadata": {},
   "source": [
    "#### 2. For each of the top 10 similar songs, get a list of the user purchases"
   ]
  },
  {
   "cell_type": "code",
   "execution_count": 33,
   "metadata": {},
   "outputs": [
    {
     "data": {
      "text/html": [
       "<div>\n",
       "<style scoped>\n",
       "    .dataframe tbody tr th:only-of-type {\n",
       "        vertical-align: middle;\n",
       "    }\n",
       "\n",
       "    .dataframe tbody tr th {\n",
       "        vertical-align: top;\n",
       "    }\n",
       "\n",
       "    .dataframe thead th {\n",
       "        text-align: right;\n",
       "    }\n",
       "</style>\n",
       "<table border=\"1\" class=\"dataframe\">\n",
       "  <thead>\n",
       "    <tr style=\"text-align: right;\">\n",
       "      <th></th>\n",
       "      <th>user</th>\n",
       "      <th>abba</th>\n",
       "      <th>ac/dc</th>\n",
       "      <th>adam green</th>\n",
       "      <th>aerosmith</th>\n",
       "      <th>afi</th>\n",
       "      <th>air</th>\n",
       "      <th>alanis morissette</th>\n",
       "      <th>alexisonfire</th>\n",
       "      <th>alicia keys</th>\n",
       "      <th>...</th>\n",
       "      <th>timbaland</th>\n",
       "      <th>tom waits</th>\n",
       "      <th>tool</th>\n",
       "      <th>tori amos</th>\n",
       "      <th>travis</th>\n",
       "      <th>trivium</th>\n",
       "      <th>u2</th>\n",
       "      <th>underoath</th>\n",
       "      <th>volbeat</th>\n",
       "      <th>yann tiersen</th>\n",
       "    </tr>\n",
       "  </thead>\n",
       "  <tbody>\n",
       "    <tr>\n",
       "      <th>45</th>\n",
       "      <td>890</td>\n",
       "      <td>1</td>\n",
       "      <td>0</td>\n",
       "      <td>0</td>\n",
       "      <td>0</td>\n",
       "      <td>0</td>\n",
       "      <td>0</td>\n",
       "      <td>0</td>\n",
       "      <td>0</td>\n",
       "      <td>0</td>\n",
       "      <td>...</td>\n",
       "      <td>0</td>\n",
       "      <td>0</td>\n",
       "      <td>0</td>\n",
       "      <td>0</td>\n",
       "      <td>0</td>\n",
       "      <td>0</td>\n",
       "      <td>0</td>\n",
       "      <td>0</td>\n",
       "      <td>0</td>\n",
       "      <td>0</td>\n",
       "    </tr>\n",
       "    <tr>\n",
       "      <th>99</th>\n",
       "      <td>1606</td>\n",
       "      <td>1</td>\n",
       "      <td>0</td>\n",
       "      <td>0</td>\n",
       "      <td>0</td>\n",
       "      <td>0</td>\n",
       "      <td>0</td>\n",
       "      <td>0</td>\n",
       "      <td>0</td>\n",
       "      <td>0</td>\n",
       "      <td>...</td>\n",
       "      <td>0</td>\n",
       "      <td>0</td>\n",
       "      <td>0</td>\n",
       "      <td>0</td>\n",
       "      <td>0</td>\n",
       "      <td>0</td>\n",
       "      <td>0</td>\n",
       "      <td>0</td>\n",
       "      <td>0</td>\n",
       "      <td>0</td>\n",
       "    </tr>\n",
       "  </tbody>\n",
       "</table>\n",
       "<p>2 rows × 285 columns</p>\n",
       "</div>"
      ],
      "text/plain": [
       "    user  abba  ac/dc  adam green  aerosmith  afi  air  alanis morissette  \\\n",
       "45   890     1      0           0          0    0    0                  0   \n",
       "99  1606     1      0           0          0    0    0                  0   \n",
       "\n",
       "    alexisonfire  alicia keys  ...  timbaland  tom waits  tool  tori amos  \\\n",
       "45             0            0  ...          0          0     0          0   \n",
       "99             0            0  ...          0          0     0          0   \n",
       "\n",
       "    travis  trivium  u2  underoath  volbeat  yann tiersen  \n",
       "45       0        0   0          0        0             0  \n",
       "99       0        0   0          0        0             0  \n",
       "\n",
       "[2 rows x 285 columns]"
      ]
     },
     "execution_count": 33,
     "metadata": {},
     "output_type": "execute_result"
    }
   ],
   "source": [
    "## There are several ways to extract the user\n",
    "## One way is to extract the row index\n",
    "song_name = df.columns[1]\n",
    "df[df[song_name] == 1]"
   ]
  },
  {
   "cell_type": "code",
   "execution_count": 34,
   "metadata": {},
   "outputs": [
    {
     "data": {
      "text/plain": [
       "[45, 99]"
      ]
     },
     "execution_count": 34,
     "metadata": {},
     "output_type": "execute_result"
    }
   ],
   "source": [
    "## One way is to extract the row index\n",
    "list(df[df[song_name] == 1].index)"
   ]
  },
  {
   "cell_type": "code",
   "execution_count": 35,
   "metadata": {},
   "outputs": [
    {
     "data": {
      "text/plain": [
       "[890, 1606]"
      ]
     },
     "execution_count": 35,
     "metadata": {},
     "output_type": "execute_result"
    }
   ],
   "source": [
    "## Another way is to extract the user id\n",
    "list(df[df[song_name] == 1].iloc[:,0])"
   ]
  },
  {
   "cell_type": "code",
   "execution_count": 36,
   "metadata": {},
   "outputs": [],
   "source": [
    "user_index = []\n",
    "\n",
    "for song in range(1,285):\n",
    "    song_name = df.columns[song]\n",
    "    user_index.append(list(df[df[song_name] == 1].index))"
   ]
  },
  {
   "cell_type": "code",
   "execution_count": 37,
   "metadata": {},
   "outputs": [
    {
     "data": {
      "text/plain": [
       "[[45, 99],\n",
       " [21, 56, 64, 67, 89],\n",
       " [1],\n",
       " [66],\n",
       " [16, 52, 64, 82],\n",
       " [26, 32, 43, 44, 78],\n",
       " [32, 35],\n",
       " [5, 49, 57],\n",
       " [38, 59, 92, 96],\n",
       " [7, 13, 48]]"
      ]
     },
     "execution_count": 37,
     "metadata": {},
     "output_type": "execute_result"
    }
   ],
   "source": [
    "user_index[:10]"
   ]
  },
  {
   "cell_type": "code",
   "execution_count": 38,
   "metadata": {},
   "outputs": [
    {
     "name": "stdout",
     "output_type": "stream",
     "text": [
      "The user index shows that for sogn1, abba, user_index 45 and 99 purchased it.\n"
     ]
    }
   ],
   "source": [
    "print('The user index shows that for sogn1, abba, user_index 45 and 99 purchased it.')"
   ]
  },
  {
   "cell_type": "markdown",
   "metadata": {},
   "source": [
    "#### 3. Calculate a recommendation score as follows: ∑(𝑝𝑢𝑟𝑐ℎ𝑎𝑠𝑒𝐻𝑖𝑠𝑡𝑜𝑟𝑦⋅𝑠𝑖𝑚𝑖𝑙𝑎𝑟𝑖𝑡𝑦𝑆𝑐𝑜𝑟𝑒)/∑𝑠𝑖𝑚𝑖𝑙𝑎𝑟𝑖𝑡𝑦𝑆𝑐𝑜𝑟𝑒"
   ]
  },
  {
   "cell_type": "code",
   "execution_count": 39,
   "metadata": {},
   "outputs": [],
   "source": [
    "rec_score = df.copy()"
   ]
  },
  {
   "cell_type": "code",
   "execution_count": 40,
   "metadata": {},
   "outputs": [],
   "source": [
    "## Calculating Recommendation Score:\n",
    "\n",
    "## for each user each song:\n",
    "for user in range(0,100):\n",
    "    for song in range(1, 285):\n",
    "        ## similar song for that song:\n",
    "        similar_song = song_sim_list[song-1]\n",
    "        similar_song_score = song_sim_cal[song-1]\n",
    "        nominator = []\n",
    "        denominator = sum(similar_song_score)\n",
    "        \n",
    "        ## we have 10 similar songs for each song:\n",
    "        for s in range(0,10):\n",
    "            song_index = df.columns.get_loc(similar_song[s])\n",
    "            similar_user = user_index[song_index-1]\n",
    "            purchase_history = 0\n",
    "            \n",
    "            ## for each song, we want to check if the user has listened to it:\n",
    "            if user in similar_user:\n",
    "                purchase_history = 1\n",
    "            else:\n",
    "                purchase_history = 0\n",
    "            nominator.append(purchase_history*similar_song_score[s])\n",
    "            \n",
    "        score = sum(nominator)/denominator\n",
    "        rec_score.iloc[user,song] = score"
   ]
  },
  {
   "cell_type": "code",
   "execution_count": 41,
   "metadata": {},
   "outputs": [
    {
     "data": {
      "text/html": [
       "<div>\n",
       "<style scoped>\n",
       "    .dataframe tbody tr th:only-of-type {\n",
       "        vertical-align: middle;\n",
       "    }\n",
       "\n",
       "    .dataframe tbody tr th {\n",
       "        vertical-align: top;\n",
       "    }\n",
       "\n",
       "    .dataframe thead th {\n",
       "        text-align: right;\n",
       "    }\n",
       "</style>\n",
       "<table border=\"1\" class=\"dataframe\">\n",
       "  <thead>\n",
       "    <tr style=\"text-align: right;\">\n",
       "      <th></th>\n",
       "      <th>user</th>\n",
       "      <th>abba</th>\n",
       "      <th>ac/dc</th>\n",
       "      <th>adam green</th>\n",
       "      <th>aerosmith</th>\n",
       "      <th>afi</th>\n",
       "      <th>air</th>\n",
       "      <th>alanis morissette</th>\n",
       "      <th>alexisonfire</th>\n",
       "      <th>alicia keys</th>\n",
       "      <th>...</th>\n",
       "      <th>timbaland</th>\n",
       "      <th>tom waits</th>\n",
       "      <th>tool</th>\n",
       "      <th>tori amos</th>\n",
       "      <th>travis</th>\n",
       "      <th>trivium</th>\n",
       "      <th>u2</th>\n",
       "      <th>underoath</th>\n",
       "      <th>volbeat</th>\n",
       "      <th>yann tiersen</th>\n",
       "    </tr>\n",
       "  </thead>\n",
       "  <tbody>\n",
       "    <tr>\n",
       "      <th>0</th>\n",
       "      <td>1</td>\n",
       "      <td>0.000000</td>\n",
       "      <td>0.000000</td>\n",
       "      <td>0.000000</td>\n",
       "      <td>0.000000</td>\n",
       "      <td>0.000000</td>\n",
       "      <td>0.000000</td>\n",
       "      <td>0.0</td>\n",
       "      <td>0.000000</td>\n",
       "      <td>0.0</td>\n",
       "      <td>...</td>\n",
       "      <td>0.147209</td>\n",
       "      <td>0.0</td>\n",
       "      <td>0.0</td>\n",
       "      <td>0.0</td>\n",
       "      <td>NaN</td>\n",
       "      <td>0.000000</td>\n",
       "      <td>0.0</td>\n",
       "      <td>0.088231</td>\n",
       "      <td>0.094411</td>\n",
       "      <td>0.0</td>\n",
       "    </tr>\n",
       "    <tr>\n",
       "      <th>1</th>\n",
       "      <td>33</td>\n",
       "      <td>0.000000</td>\n",
       "      <td>0.000000</td>\n",
       "      <td>1.000000</td>\n",
       "      <td>0.000000</td>\n",
       "      <td>0.208070</td>\n",
       "      <td>0.000000</td>\n",
       "      <td>0.0</td>\n",
       "      <td>0.094377</td>\n",
       "      <td>0.0</td>\n",
       "      <td>...</td>\n",
       "      <td>0.000000</td>\n",
       "      <td>0.0</td>\n",
       "      <td>0.0</td>\n",
       "      <td>0.0</td>\n",
       "      <td>NaN</td>\n",
       "      <td>0.000000</td>\n",
       "      <td>0.0</td>\n",
       "      <td>0.088231</td>\n",
       "      <td>0.000000</td>\n",
       "      <td>0.0</td>\n",
       "    </tr>\n",
       "    <tr>\n",
       "      <th>2</th>\n",
       "      <td>42</td>\n",
       "      <td>0.173849</td>\n",
       "      <td>0.206181</td>\n",
       "      <td>0.000000</td>\n",
       "      <td>0.072073</td>\n",
       "      <td>0.000000</td>\n",
       "      <td>0.000000</td>\n",
       "      <td>0.0</td>\n",
       "      <td>0.000000</td>\n",
       "      <td>0.0</td>\n",
       "      <td>...</td>\n",
       "      <td>0.000000</td>\n",
       "      <td>0.0</td>\n",
       "      <td>0.0</td>\n",
       "      <td>0.0</td>\n",
       "      <td>NaN</td>\n",
       "      <td>0.089999</td>\n",
       "      <td>0.0</td>\n",
       "      <td>0.000000</td>\n",
       "      <td>0.000000</td>\n",
       "      <td>0.0</td>\n",
       "    </tr>\n",
       "    <tr>\n",
       "      <th>3</th>\n",
       "      <td>51</td>\n",
       "      <td>0.000000</td>\n",
       "      <td>0.000000</td>\n",
       "      <td>0.188449</td>\n",
       "      <td>0.000000</td>\n",
       "      <td>0.081329</td>\n",
       "      <td>0.095548</td>\n",
       "      <td>0.0</td>\n",
       "      <td>0.000000</td>\n",
       "      <td>0.0</td>\n",
       "      <td>...</td>\n",
       "      <td>0.000000</td>\n",
       "      <td>0.0</td>\n",
       "      <td>0.0</td>\n",
       "      <td>0.0</td>\n",
       "      <td>NaN</td>\n",
       "      <td>0.000000</td>\n",
       "      <td>0.0</td>\n",
       "      <td>0.000000</td>\n",
       "      <td>0.000000</td>\n",
       "      <td>0.0</td>\n",
       "    </tr>\n",
       "    <tr>\n",
       "      <th>4</th>\n",
       "      <td>62</td>\n",
       "      <td>0.000000</td>\n",
       "      <td>0.000000</td>\n",
       "      <td>0.073010</td>\n",
       "      <td>0.000000</td>\n",
       "      <td>0.178129</td>\n",
       "      <td>0.000000</td>\n",
       "      <td>0.0</td>\n",
       "      <td>0.000000</td>\n",
       "      <td>0.0</td>\n",
       "      <td>...</td>\n",
       "      <td>0.217462</td>\n",
       "      <td>0.0</td>\n",
       "      <td>0.0</td>\n",
       "      <td>0.0</td>\n",
       "      <td>NaN</td>\n",
       "      <td>0.000000</td>\n",
       "      <td>0.0</td>\n",
       "      <td>0.101881</td>\n",
       "      <td>0.094411</td>\n",
       "      <td>0.0</td>\n",
       "    </tr>\n",
       "  </tbody>\n",
       "</table>\n",
       "<p>5 rows × 285 columns</p>\n",
       "</div>"
      ],
      "text/plain": [
       "   user      abba     ac/dc  adam green  aerosmith       afi       air  \\\n",
       "0     1  0.000000  0.000000    0.000000   0.000000  0.000000  0.000000   \n",
       "1    33  0.000000  0.000000    1.000000   0.000000  0.208070  0.000000   \n",
       "2    42  0.173849  0.206181    0.000000   0.072073  0.000000  0.000000   \n",
       "3    51  0.000000  0.000000    0.188449   0.000000  0.081329  0.095548   \n",
       "4    62  0.000000  0.000000    0.073010   0.000000  0.178129  0.000000   \n",
       "\n",
       "   alanis morissette  alexisonfire  alicia keys  ...  timbaland  tom waits  \\\n",
       "0                0.0      0.000000          0.0  ...   0.147209        0.0   \n",
       "1                0.0      0.094377          0.0  ...   0.000000        0.0   \n",
       "2                0.0      0.000000          0.0  ...   0.000000        0.0   \n",
       "3                0.0      0.000000          0.0  ...   0.000000        0.0   \n",
       "4                0.0      0.000000          0.0  ...   0.217462        0.0   \n",
       "\n",
       "   tool  tori amos  travis   trivium   u2  underoath   volbeat  yann tiersen  \n",
       "0   0.0        0.0     NaN  0.000000  0.0   0.088231  0.094411           0.0  \n",
       "1   0.0        0.0     NaN  0.000000  0.0   0.088231  0.000000           0.0  \n",
       "2   0.0        0.0     NaN  0.089999  0.0   0.000000  0.000000           0.0  \n",
       "3   0.0        0.0     NaN  0.000000  0.0   0.000000  0.000000           0.0  \n",
       "4   0.0        0.0     NaN  0.000000  0.0   0.101881  0.094411           0.0  \n",
       "\n",
       "[5 rows x 285 columns]"
      ]
     },
     "execution_count": 41,
     "metadata": {},
     "output_type": "execute_result"
    }
   ],
   "source": [
    "rec_score.head()"
   ]
  },
  {
   "cell_type": "markdown",
   "metadata": {},
   "source": [
    "#### 4. What are the top 5 song recommendations for user 1606?"
   ]
  },
  {
   "cell_type": "code",
   "execution_count": 42,
   "metadata": {},
   "outputs": [
    {
     "data": {
      "text/html": [
       "<div>\n",
       "<style scoped>\n",
       "    .dataframe tbody tr th:only-of-type {\n",
       "        vertical-align: middle;\n",
       "    }\n",
       "\n",
       "    .dataframe tbody tr th {\n",
       "        vertical-align: top;\n",
       "    }\n",
       "\n",
       "    .dataframe thead th {\n",
       "        text-align: right;\n",
       "    }\n",
       "</style>\n",
       "<table border=\"1\" class=\"dataframe\">\n",
       "  <thead>\n",
       "    <tr style=\"text-align: right;\">\n",
       "      <th></th>\n",
       "      <th>score</th>\n",
       "    </tr>\n",
       "  </thead>\n",
       "  <tbody>\n",
       "    <tr>\n",
       "      <th>abba</th>\n",
       "      <td>0.239023</td>\n",
       "    </tr>\n",
       "    <tr>\n",
       "      <th>ac/dc</th>\n",
       "      <td>0.000000</td>\n",
       "    </tr>\n",
       "    <tr>\n",
       "      <th>adam green</th>\n",
       "      <td>0.000000</td>\n",
       "    </tr>\n",
       "    <tr>\n",
       "      <th>aerosmith</th>\n",
       "      <td>0.000000</td>\n",
       "    </tr>\n",
       "    <tr>\n",
       "      <th>afi</th>\n",
       "      <td>0.000000</td>\n",
       "    </tr>\n",
       "    <tr>\n",
       "      <th>...</th>\n",
       "      <td>...</td>\n",
       "    </tr>\n",
       "    <tr>\n",
       "      <th>trivium</th>\n",
       "      <td>0.000000</td>\n",
       "    </tr>\n",
       "    <tr>\n",
       "      <th>u2</th>\n",
       "      <td>0.000000</td>\n",
       "    </tr>\n",
       "    <tr>\n",
       "      <th>underoath</th>\n",
       "      <td>0.000000</td>\n",
       "    </tr>\n",
       "    <tr>\n",
       "      <th>volbeat</th>\n",
       "      <td>0.000000</td>\n",
       "    </tr>\n",
       "    <tr>\n",
       "      <th>yann tiersen</th>\n",
       "      <td>0.000000</td>\n",
       "    </tr>\n",
       "  </tbody>\n",
       "</table>\n",
       "<p>284 rows × 1 columns</p>\n",
       "</div>"
      ],
      "text/plain": [
       "                 score\n",
       "abba          0.239023\n",
       "ac/dc         0.000000\n",
       "adam green    0.000000\n",
       "aerosmith     0.000000\n",
       "afi           0.000000\n",
       "...                ...\n",
       "trivium       0.000000\n",
       "u2            0.000000\n",
       "underoath     0.000000\n",
       "volbeat       0.000000\n",
       "yann tiersen  0.000000\n",
       "\n",
       "[284 rows x 1 columns]"
      ]
     },
     "execution_count": 42,
     "metadata": {},
     "output_type": "execute_result"
    }
   ],
   "source": [
    "user1606_recom = rec_score[rec_score['user']==1606].T\n",
    "user1606_recom = user1606_recom.iloc[1:]\n",
    "user1606_recom.columns = ['score']\n",
    "user1606_recom"
   ]
  },
  {
   "cell_type": "code",
   "execution_count": 43,
   "metadata": {},
   "outputs": [
    {
     "data": {
      "text/html": [
       "<div>\n",
       "<style scoped>\n",
       "    .dataframe tbody tr th:only-of-type {\n",
       "        vertical-align: middle;\n",
       "    }\n",
       "\n",
       "    .dataframe tbody tr th {\n",
       "        vertical-align: top;\n",
       "    }\n",
       "\n",
       "    .dataframe thead th {\n",
       "        text-align: right;\n",
       "    }\n",
       "</style>\n",
       "<table border=\"1\" class=\"dataframe\">\n",
       "  <thead>\n",
       "    <tr style=\"text-align: right;\">\n",
       "      <th></th>\n",
       "      <th>score</th>\n",
       "    </tr>\n",
       "  </thead>\n",
       "  <tbody>\n",
       "    <tr>\n",
       "      <th>elvis presley</th>\n",
       "      <td>0.289328</td>\n",
       "    </tr>\n",
       "    <tr>\n",
       "      <th>abba</th>\n",
       "      <td>0.239023</td>\n",
       "    </tr>\n",
       "    <tr>\n",
       "      <th>eric clapton</th>\n",
       "      <td>0.202740</td>\n",
       "    </tr>\n",
       "    <tr>\n",
       "      <th>frank sinatra</th>\n",
       "      <td>0.201139</td>\n",
       "    </tr>\n",
       "    <tr>\n",
       "      <th>howard shore</th>\n",
       "      <td>0.171749</td>\n",
       "    </tr>\n",
       "  </tbody>\n",
       "</table>\n",
       "</div>"
      ],
      "text/plain": [
       "                  score\n",
       "elvis presley  0.289328\n",
       "abba           0.239023\n",
       "eric clapton   0.202740\n",
       "frank sinatra  0.201139\n",
       "howard shore   0.171749"
      ]
     },
     "execution_count": 43,
     "metadata": {},
     "output_type": "execute_result"
    }
   ],
   "source": [
    "user1606_recom.sort_values(by = 'score', ascending = False).iloc[:5]"
   ]
  },
  {
   "cell_type": "code",
   "execution_count": 44,
   "metadata": {},
   "outputs": [],
   "source": [
    "listened = []\n",
    "\n",
    "for i in range(0, len(user1606_song)):\n",
    "    check = user1606_song[i] in user1606_recom.sort_values(by = 'score', ascending = False).iloc[:5].index\n",
    "    if check == True:\n",
    "        listened.append(user1606_song[i])"
   ]
  },
  {
   "cell_type": "code",
   "execution_count": 45,
   "metadata": {},
   "outputs": [
    {
     "name": "stdout",
     "output_type": "stream",
     "text": [
      "User 1606 has already listened  ['abba', 'elvis presley', 'frank sinatra']\n"
     ]
    }
   ],
   "source": [
    "print('User 1606 has already listened ',listened)"
   ]
  },
  {
   "cell_type": "markdown",
   "metadata": {},
   "source": [
    "## 2. Conceptual Questions"
   ]
  },
  {
   "cell_type": "markdown",
   "metadata": {},
   "source": [
    "### A. Name 2 other similarity measures that you can use instead of cosine similarity above."
   ]
  },
  {
   "cell_type": "markdown",
   "metadata": {},
   "source": [
    "#### Other than cosine similarity score, we can also use pearson correlation and Euclidean for similarity measures as those metrics can also present the spacial distance. Additionally, we can use NearestNeighbor method to find the similar vectors."
   ]
  },
  {
   "cell_type": "markdown",
   "metadata": {},
   "source": [
    "### B. What is needed to build a Content-Based Recommender system?"
   ]
  },
  {
   "cell_type": "markdown",
   "metadata": {},
   "source": [
    "#### For content-based recommender system, we need to have an item/product's features to calculate the similarities. Content-based filtering uses item features to recommend other items similar to what the user likes, based on the users' previous feedbacks. Since we are comparing between an item and an item, we will need the item features. For example, if we are comparing two movies, we may want to know each movie's time length, language, category, and ratings. "
   ]
  },
  {
   "cell_type": "markdown",
   "metadata": {},
   "source": [
    "### C. Name 2 methods to evaluate your recommender system."
   ]
  },
  {
   "cell_type": "markdown",
   "metadata": {},
   "source": [
    "#### One method is the offline evaluation. In this case, we will look for low prediction errors by looking at the RMSE, MAE, high recall/catalog converge. Another way is the online evaluation. In this case, we want to search for customer lifetime values, apply some A/B testing to see if the recommendation system helps. "
   ]
  },
  {
   "cell_type": "code",
   "execution_count": null,
   "metadata": {},
   "outputs": [],
   "source": []
  }
 ],
 "metadata": {
  "kernelspec": {
   "display_name": "Python 3",
   "language": "python",
   "name": "python3"
  },
  "language_info": {
   "codemirror_mode": {
    "name": "ipython",
    "version": 3
   },
   "file_extension": ".py",
   "mimetype": "text/x-python",
   "name": "python",
   "nbconvert_exporter": "python",
   "pygments_lexer": "ipython3",
   "version": "3.7.6"
  }
 },
 "nbformat": 4,
 "nbformat_minor": 4
}
