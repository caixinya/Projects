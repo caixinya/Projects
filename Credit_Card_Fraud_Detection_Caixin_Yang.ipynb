{
  "nbformat": 4,
  "nbformat_minor": 0,
  "metadata": {
    "colab": {
      "name": "Credit Card Fraud Detection_Caixin Yang.ipynb",
      "provenance": [],
      "authorship_tag": "ABX9TyPu/5uHN9pbc03uDj81nROr",
      "include_colab_link": true
    },
    "kernelspec": {
      "name": "python3",
      "display_name": "Python 3"
    }
  },
  "cells": [
    {
      "cell_type": "markdown",
      "metadata": {
        "id": "view-in-github",
        "colab_type": "text"
      },
      "source": [
        "<a href=\"https://colab.research.google.com/github/caixinya/Projects/blob/main/Credit_Card_Fraud_Detection_Caixin_Yang.ipynb\" target=\"_parent\"><img src=\"https://colab.research.google.com/assets/colab-badge.svg\" alt=\"Open In Colab\"/></a>"
      ]
    },
    {
      "cell_type": "code",
      "metadata": {
        "id": "6tWzrhMTLq9w"
      },
      "source": [
        "import numpy as np\n",
        "import pandas as pd\n",
        "from scipy.stats import ttest_ind\n",
        "from sklearn.preprocessing import StandardScaler\n",
        "from sklearn.model_selection import StratifiedShuffleSplit\n",
        "from sklearn.utils import resample\n",
        "\n",
        "import tensorflow as tf\n",
        "from tensorflow import keras\n",
        "from tensorflow.keras.models import Sequential\n",
        "from tensorflow.keras.layers import Dense, Activation,Dropout\n",
        "from tensorflow.keras import backend as K\n",
        "from tensorflow.keras.optimizers import Adam\n",
        "\n",
        "from sklearn.linear_model import LogisticRegression\n",
        "from sklearn.ensemble import RandomForestClassifier\n",
        "from sklearn.metrics import confusion_matrix,classification_report\n",
        "from sklearn.metrics import roc_auc_score, roc_curve\n",
        "from matplotlib import pyplot\n",
        "import matplotlib.pyplot as plt"
      ],
      "execution_count": 38,
      "outputs": []
    },
    {
      "cell_type": "markdown",
      "metadata": {
        "id": "nT62vHOsL_P9"
      },
      "source": [
        "# 1. Load Data"
      ]
    },
    {
      "cell_type": "code",
      "metadata": {
        "colab": {
          "resources": {
            "http://localhost:8080/nbextensions/google.colab/files.js": {
              "data": "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",
              "ok": true,
              "headers": [
                [
                  "content-type",
                  "application/javascript"
                ]
              ],
              "status": 200,
              "status_text": ""
            }
          },
          "base_uri": "https://localhost:8080/",
          "height": 72
        },
        "id": "rEtGMIvILt2x",
        "outputId": "a804a39e-dc43-4ea9-d5af-7e35523548f9"
      },
      "source": [
        "from google.colab import files\n",
        "uploaded = files.upload()"
      ],
      "execution_count": 2,
      "outputs": [
        {
          "output_type": "display_data",
          "data": {
            "text/html": [
              "\n",
              "     <input type=\"file\" id=\"files-5a19450a-6efe-4407-9785-8c413bb9bf64\" name=\"files[]\" multiple disabled\n",
              "        style=\"border:none\" />\n",
              "     <output id=\"result-5a19450a-6efe-4407-9785-8c413bb9bf64\">\n",
              "      Upload widget is only available when the cell has been executed in the\n",
              "      current browser session. Please rerun this cell to enable.\n",
              "      </output>\n",
              "      <script src=\"/nbextensions/google.colab/files.js\"></script> "
            ],
            "text/plain": [
              "<IPython.core.display.HTML object>"
            ]
          },
          "metadata": {
            "tags": []
          }
        },
        {
          "output_type": "stream",
          "text": [
            "Saving creditcard.csv to creditcard.csv\n"
          ],
          "name": "stdout"
        }
      ]
    },
    {
      "cell_type": "code",
      "metadata": {
        "id": "6vDnsUZbMQhf"
      },
      "source": [
        "import io\n",
        "df = pd.read_csv(io.StringIO(uploaded['creditcard.csv'].decode('utf-8')))"
      ],
      "execution_count": 3,
      "outputs": []
    },
    {
      "cell_type": "code",
      "metadata": {
        "colab": {
          "base_uri": "https://localhost:8080/",
          "height": 218
        },
        "id": "RqdgG3AiMarp",
        "outputId": "35a7e7a4-c152-43ae-e620-436b0aa96088"
      },
      "source": [
        "df.head()"
      ],
      "execution_count": 4,
      "outputs": [
        {
          "output_type": "execute_result",
          "data": {
            "text/html": [
              "<div>\n",
              "<style scoped>\n",
              "    .dataframe tbody tr th:only-of-type {\n",
              "        vertical-align: middle;\n",
              "    }\n",
              "\n",
              "    .dataframe tbody tr th {\n",
              "        vertical-align: top;\n",
              "    }\n",
              "\n",
              "    .dataframe thead th {\n",
              "        text-align: right;\n",
              "    }\n",
              "</style>\n",
              "<table border=\"1\" class=\"dataframe\">\n",
              "  <thead>\n",
              "    <tr style=\"text-align: right;\">\n",
              "      <th></th>\n",
              "      <th>Time</th>\n",
              "      <th>V1</th>\n",
              "      <th>V2</th>\n",
              "      <th>V3</th>\n",
              "      <th>V4</th>\n",
              "      <th>V5</th>\n",
              "      <th>V6</th>\n",
              "      <th>V7</th>\n",
              "      <th>V8</th>\n",
              "      <th>V9</th>\n",
              "      <th>V10</th>\n",
              "      <th>V11</th>\n",
              "      <th>V12</th>\n",
              "      <th>V13</th>\n",
              "      <th>V14</th>\n",
              "      <th>V15</th>\n",
              "      <th>V16</th>\n",
              "      <th>V17</th>\n",
              "      <th>V18</th>\n",
              "      <th>V19</th>\n",
              "      <th>V20</th>\n",
              "      <th>V21</th>\n",
              "      <th>V22</th>\n",
              "      <th>V23</th>\n",
              "      <th>V24</th>\n",
              "      <th>V25</th>\n",
              "      <th>V26</th>\n",
              "      <th>V27</th>\n",
              "      <th>V28</th>\n",
              "      <th>Amount</th>\n",
              "      <th>Class</th>\n",
              "    </tr>\n",
              "  </thead>\n",
              "  <tbody>\n",
              "    <tr>\n",
              "      <th>0</th>\n",
              "      <td>0.0</td>\n",
              "      <td>-1.359807</td>\n",
              "      <td>-0.072781</td>\n",
              "      <td>2.536347</td>\n",
              "      <td>1.378155</td>\n",
              "      <td>-0.338321</td>\n",
              "      <td>0.462388</td>\n",
              "      <td>0.239599</td>\n",
              "      <td>0.098698</td>\n",
              "      <td>0.363787</td>\n",
              "      <td>0.090794</td>\n",
              "      <td>-0.551600</td>\n",
              "      <td>-0.617801</td>\n",
              "      <td>-0.991390</td>\n",
              "      <td>-0.311169</td>\n",
              "      <td>1.468177</td>\n",
              "      <td>-0.470401</td>\n",
              "      <td>0.207971</td>\n",
              "      <td>0.025791</td>\n",
              "      <td>0.403993</td>\n",
              "      <td>0.251412</td>\n",
              "      <td>-0.018307</td>\n",
              "      <td>0.277838</td>\n",
              "      <td>-0.110474</td>\n",
              "      <td>0.066928</td>\n",
              "      <td>0.128539</td>\n",
              "      <td>-0.189115</td>\n",
              "      <td>0.133558</td>\n",
              "      <td>-0.021053</td>\n",
              "      <td>149.62</td>\n",
              "      <td>0</td>\n",
              "    </tr>\n",
              "    <tr>\n",
              "      <th>1</th>\n",
              "      <td>0.0</td>\n",
              "      <td>1.191857</td>\n",
              "      <td>0.266151</td>\n",
              "      <td>0.166480</td>\n",
              "      <td>0.448154</td>\n",
              "      <td>0.060018</td>\n",
              "      <td>-0.082361</td>\n",
              "      <td>-0.078803</td>\n",
              "      <td>0.085102</td>\n",
              "      <td>-0.255425</td>\n",
              "      <td>-0.166974</td>\n",
              "      <td>1.612727</td>\n",
              "      <td>1.065235</td>\n",
              "      <td>0.489095</td>\n",
              "      <td>-0.143772</td>\n",
              "      <td>0.635558</td>\n",
              "      <td>0.463917</td>\n",
              "      <td>-0.114805</td>\n",
              "      <td>-0.183361</td>\n",
              "      <td>-0.145783</td>\n",
              "      <td>-0.069083</td>\n",
              "      <td>-0.225775</td>\n",
              "      <td>-0.638672</td>\n",
              "      <td>0.101288</td>\n",
              "      <td>-0.339846</td>\n",
              "      <td>0.167170</td>\n",
              "      <td>0.125895</td>\n",
              "      <td>-0.008983</td>\n",
              "      <td>0.014724</td>\n",
              "      <td>2.69</td>\n",
              "      <td>0</td>\n",
              "    </tr>\n",
              "    <tr>\n",
              "      <th>2</th>\n",
              "      <td>1.0</td>\n",
              "      <td>-1.358354</td>\n",
              "      <td>-1.340163</td>\n",
              "      <td>1.773209</td>\n",
              "      <td>0.379780</td>\n",
              "      <td>-0.503198</td>\n",
              "      <td>1.800499</td>\n",
              "      <td>0.791461</td>\n",
              "      <td>0.247676</td>\n",
              "      <td>-1.514654</td>\n",
              "      <td>0.207643</td>\n",
              "      <td>0.624501</td>\n",
              "      <td>0.066084</td>\n",
              "      <td>0.717293</td>\n",
              "      <td>-0.165946</td>\n",
              "      <td>2.345865</td>\n",
              "      <td>-2.890083</td>\n",
              "      <td>1.109969</td>\n",
              "      <td>-0.121359</td>\n",
              "      <td>-2.261857</td>\n",
              "      <td>0.524980</td>\n",
              "      <td>0.247998</td>\n",
              "      <td>0.771679</td>\n",
              "      <td>0.909412</td>\n",
              "      <td>-0.689281</td>\n",
              "      <td>-0.327642</td>\n",
              "      <td>-0.139097</td>\n",
              "      <td>-0.055353</td>\n",
              "      <td>-0.059752</td>\n",
              "      <td>378.66</td>\n",
              "      <td>0</td>\n",
              "    </tr>\n",
              "    <tr>\n",
              "      <th>3</th>\n",
              "      <td>1.0</td>\n",
              "      <td>-0.966272</td>\n",
              "      <td>-0.185226</td>\n",
              "      <td>1.792993</td>\n",
              "      <td>-0.863291</td>\n",
              "      <td>-0.010309</td>\n",
              "      <td>1.247203</td>\n",
              "      <td>0.237609</td>\n",
              "      <td>0.377436</td>\n",
              "      <td>-1.387024</td>\n",
              "      <td>-0.054952</td>\n",
              "      <td>-0.226487</td>\n",
              "      <td>0.178228</td>\n",
              "      <td>0.507757</td>\n",
              "      <td>-0.287924</td>\n",
              "      <td>-0.631418</td>\n",
              "      <td>-1.059647</td>\n",
              "      <td>-0.684093</td>\n",
              "      <td>1.965775</td>\n",
              "      <td>-1.232622</td>\n",
              "      <td>-0.208038</td>\n",
              "      <td>-0.108300</td>\n",
              "      <td>0.005274</td>\n",
              "      <td>-0.190321</td>\n",
              "      <td>-1.175575</td>\n",
              "      <td>0.647376</td>\n",
              "      <td>-0.221929</td>\n",
              "      <td>0.062723</td>\n",
              "      <td>0.061458</td>\n",
              "      <td>123.50</td>\n",
              "      <td>0</td>\n",
              "    </tr>\n",
              "    <tr>\n",
              "      <th>4</th>\n",
              "      <td>2.0</td>\n",
              "      <td>-1.158233</td>\n",
              "      <td>0.877737</td>\n",
              "      <td>1.548718</td>\n",
              "      <td>0.403034</td>\n",
              "      <td>-0.407193</td>\n",
              "      <td>0.095921</td>\n",
              "      <td>0.592941</td>\n",
              "      <td>-0.270533</td>\n",
              "      <td>0.817739</td>\n",
              "      <td>0.753074</td>\n",
              "      <td>-0.822843</td>\n",
              "      <td>0.538196</td>\n",
              "      <td>1.345852</td>\n",
              "      <td>-1.119670</td>\n",
              "      <td>0.175121</td>\n",
              "      <td>-0.451449</td>\n",
              "      <td>-0.237033</td>\n",
              "      <td>-0.038195</td>\n",
              "      <td>0.803487</td>\n",
              "      <td>0.408542</td>\n",
              "      <td>-0.009431</td>\n",
              "      <td>0.798278</td>\n",
              "      <td>-0.137458</td>\n",
              "      <td>0.141267</td>\n",
              "      <td>-0.206010</td>\n",
              "      <td>0.502292</td>\n",
              "      <td>0.219422</td>\n",
              "      <td>0.215153</td>\n",
              "      <td>69.99</td>\n",
              "      <td>0</td>\n",
              "    </tr>\n",
              "  </tbody>\n",
              "</table>\n",
              "</div>"
            ],
            "text/plain": [
              "   Time        V1        V2        V3  ...       V27       V28  Amount  Class\n",
              "0   0.0 -1.359807 -0.072781  2.536347  ...  0.133558 -0.021053  149.62      0\n",
              "1   0.0  1.191857  0.266151  0.166480  ... -0.008983  0.014724    2.69      0\n",
              "2   1.0 -1.358354 -1.340163  1.773209  ... -0.055353 -0.059752  378.66      0\n",
              "3   1.0 -0.966272 -0.185226  1.792993  ...  0.062723  0.061458  123.50      0\n",
              "4   2.0 -1.158233  0.877737  1.548718  ...  0.219422  0.215153   69.99      0\n",
              "\n",
              "[5 rows x 31 columns]"
            ]
          },
          "metadata": {
            "tags": []
          },
          "execution_count": 4
        }
      ]
    },
    {
      "cell_type": "code",
      "metadata": {
        "colab": {
          "base_uri": "https://localhost:8080/"
        },
        "id": "d6-XpNleMauE",
        "outputId": "7d5e3182-35a2-484c-c4ff-a978bb30ed76"
      },
      "source": [
        "df.shape"
      ],
      "execution_count": 6,
      "outputs": [
        {
          "output_type": "execute_result",
          "data": {
            "text/plain": [
              "(284807, 31)"
            ]
          },
          "metadata": {
            "tags": []
          },
          "execution_count": 6
        }
      ]
    },
    {
      "cell_type": "code",
      "metadata": {
        "colab": {
          "base_uri": "https://localhost:8080/"
        },
        "id": "ZBHEiTwXMhX0",
        "outputId": "5b3d7f33-2f52-4209-b4f1-88e6e7927b14"
      },
      "source": [
        "df.info()"
      ],
      "execution_count": 8,
      "outputs": [
        {
          "output_type": "stream",
          "text": [
            "<class 'pandas.core.frame.DataFrame'>\n",
            "RangeIndex: 284807 entries, 0 to 284806\n",
            "Data columns (total 31 columns):\n",
            " #   Column  Non-Null Count   Dtype  \n",
            "---  ------  --------------   -----  \n",
            " 0   Time    284807 non-null  float64\n",
            " 1   V1      284807 non-null  float64\n",
            " 2   V2      284807 non-null  float64\n",
            " 3   V3      284807 non-null  float64\n",
            " 4   V4      284807 non-null  float64\n",
            " 5   V5      284807 non-null  float64\n",
            " 6   V6      284807 non-null  float64\n",
            " 7   V7      284807 non-null  float64\n",
            " 8   V8      284807 non-null  float64\n",
            " 9   V9      284807 non-null  float64\n",
            " 10  V10     284807 non-null  float64\n",
            " 11  V11     284807 non-null  float64\n",
            " 12  V12     284807 non-null  float64\n",
            " 13  V13     284807 non-null  float64\n",
            " 14  V14     284807 non-null  float64\n",
            " 15  V15     284807 non-null  float64\n",
            " 16  V16     284807 non-null  float64\n",
            " 17  V17     284807 non-null  float64\n",
            " 18  V18     284807 non-null  float64\n",
            " 19  V19     284807 non-null  float64\n",
            " 20  V20     284807 non-null  float64\n",
            " 21  V21     284807 non-null  float64\n",
            " 22  V22     284807 non-null  float64\n",
            " 23  V23     284807 non-null  float64\n",
            " 24  V24     284807 non-null  float64\n",
            " 25  V25     284807 non-null  float64\n",
            " 26  V26     284807 non-null  float64\n",
            " 27  V27     284807 non-null  float64\n",
            " 28  V28     284807 non-null  float64\n",
            " 29  Amount  284807 non-null  float64\n",
            " 30  Class   284807 non-null  int64  \n",
            "dtypes: float64(30), int64(1)\n",
            "memory usage: 67.4 MB\n"
          ],
          "name": "stdout"
        }
      ]
    },
    {
      "cell_type": "code",
      "metadata": {
        "colab": {
          "base_uri": "https://localhost:8080/"
        },
        "id": "VgOGHTaxMhaN",
        "outputId": "ff1fd21d-cd3d-489e-9185-3fd2a113b545"
      },
      "source": [
        "df.Class.value_counts()"
      ],
      "execution_count": 9,
      "outputs": [
        {
          "output_type": "execute_result",
          "data": {
            "text/plain": [
              "0    284315\n",
              "1       492\n",
              "Name: Class, dtype: int64"
            ]
          },
          "metadata": {
            "tags": []
          },
          "execution_count": 9
        }
      ]
    },
    {
      "cell_type": "code",
      "metadata": {
        "colab": {
          "base_uri": "https://localhost:8080/"
        },
        "id": "53zBWbpdMhcp",
        "outputId": "e85f9771-7bf6-4066-cfdc-000cafa29e01"
      },
      "source": [
        "df.isnull().sum()"
      ],
      "execution_count": 10,
      "outputs": [
        {
          "output_type": "execute_result",
          "data": {
            "text/plain": [
              "Time      0\n",
              "V1        0\n",
              "V2        0\n",
              "V3        0\n",
              "V4        0\n",
              "V5        0\n",
              "V6        0\n",
              "V7        0\n",
              "V8        0\n",
              "V9        0\n",
              "V10       0\n",
              "V11       0\n",
              "V12       0\n",
              "V13       0\n",
              "V14       0\n",
              "V15       0\n",
              "V16       0\n",
              "V17       0\n",
              "V18       0\n",
              "V19       0\n",
              "V20       0\n",
              "V21       0\n",
              "V22       0\n",
              "V23       0\n",
              "V24       0\n",
              "V25       0\n",
              "V26       0\n",
              "V27       0\n",
              "V28       0\n",
              "Amount    0\n",
              "Class     0\n",
              "dtype: int64"
            ]
          },
          "metadata": {
            "tags": []
          },
          "execution_count": 10
        }
      ]
    },
    {
      "cell_type": "markdown",
      "metadata": {
        "id": "2qXrjcEqPZeA"
      },
      "source": [
        "# 2. Split and Resample Data"
      ]
    },
    {
      "cell_type": "markdown",
      "metadata": {
        "id": "3A2Dw0bGPhzh"
      },
      "source": [
        "## 2.1 Split Training and Testing Dataset with a Stratified Method"
      ]
    },
    {
      "cell_type": "code",
      "metadata": {
        "id": "2fuKNKEJPVOT"
      },
      "source": [
        "x = df.drop(['Class','Time'],axis = 1).values\n",
        "y = df['Class'].values\n",
        "\n",
        "x = np.array(x)\n",
        "y = np.array(y)"
      ],
      "execution_count": 11,
      "outputs": []
    },
    {
      "cell_type": "code",
      "metadata": {
        "colab": {
          "base_uri": "https://localhost:8080/"
        },
        "id": "2WCC2BwNPgUU",
        "outputId": "9fc67bd4-88fe-454f-dd3e-965da658a5f8"
      },
      "source": [
        "sss = StratifiedShuffleSplit(n_splits=5, test_size=0.2, random_state=0)\n",
        "for train_index, test_index in sss.split(x,y):\n",
        "    print('Train:', train_index,'Test:',test_index)\n",
        "    x_train,x_test = x[train_index],x[test_index]\n",
        "    y_train,y_test = y[train_index],y[test_index]"
      ],
      "execution_count": 12,
      "outputs": [
        {
          "output_type": "stream",
          "text": [
            "Train: [ 36001  12844   2873 ... 269968 175960  47973] Test: [159949  15295 260353 ... 211932  70523  97767]\n",
            "Train: [ 46703  37864  53704 ... 195186 261438  51416] Test: [121014  92252 260341 ... 181799  82326 224004]\n",
            "Train: [167230 199227 240655 ... 226803 125192  34695] Test: [ 77137 250389 162020 ...  29774 146893 221549]\n",
            "Train: [  8038  60161 193863 ... 217105 207595   5194] Test: [ 70283 106113  44216 ...  27576 145659 248227]\n",
            "Train: [ 73271  12342  27439 ...  85256 253556 274487] Test: [229938  58436 277040 ...  62592 245003 107389]\n"
          ],
          "name": "stdout"
        }
      ]
    },
    {
      "cell_type": "code",
      "metadata": {
        "colab": {
          "base_uri": "https://localhost:8080/"
        },
        "id": "9_qM0-pOPpXf",
        "outputId": "d12d8594-781a-41a8-b42c-3842092e3d11"
      },
      "source": [
        "print('train shape:',x_train.shape,y_train.shape)\n",
        "print('test shape:',x_test.shape,y_test.shape)\n",
        "print('fruad cases:',np.sum(y_train==1),np.sum(y_test==1))"
      ],
      "execution_count": 15,
      "outputs": [
        {
          "output_type": "stream",
          "text": [
            "train shape: (227845, 29) (227845,)\n",
            "test shape: (56962, 29) (56962,)\n",
            "fruad cases: 394 98\n"
          ],
          "name": "stdout"
        }
      ]
    },
    {
      "cell_type": "markdown",
      "metadata": {
        "id": "DReh9op9QECA"
      },
      "source": [
        "## 2.2 Upsampling Training Data"
      ]
    },
    {
      "cell_type": "code",
      "metadata": {
        "colab": {
          "base_uri": "https://localhost:8080/"
        },
        "id": "rajcIOwYPsfu",
        "outputId": "132db4bb-e2f7-41a0-fe8d-126210fb5e97"
      },
      "source": [
        "type(x_train),type(y_train)"
      ],
      "execution_count": 16,
      "outputs": [
        {
          "output_type": "execute_result",
          "data": {
            "text/plain": [
              "(numpy.ndarray, numpy.ndarray)"
            ]
          },
          "metadata": {
            "tags": []
          },
          "execution_count": 16
        }
      ]
    },
    {
      "cell_type": "code",
      "metadata": {
        "id": "HY_a069AQLgJ"
      },
      "source": [
        "x_train = pd.DataFrame(x_train)\n",
        "y_train = pd.DataFrame(y_train)\n",
        "train = pd.concat([x_train,y_train],axis=1)"
      ],
      "execution_count": 17,
      "outputs": []
    },
    {
      "cell_type": "code",
      "metadata": {
        "id": "4m2SyshbQOyS"
      },
      "source": [
        "train.columns = df.columns[1:]"
      ],
      "execution_count": 18,
      "outputs": []
    },
    {
      "cell_type": "code",
      "metadata": {
        "colab": {
          "base_uri": "https://localhost:8080/",
          "height": 218
        },
        "id": "_WWQCkPoQQaq",
        "outputId": "e5963b7f-bbca-4057-f8af-008bec909f24"
      },
      "source": [
        "train.head()"
      ],
      "execution_count": 19,
      "outputs": [
        {
          "output_type": "execute_result",
          "data": {
            "text/html": [
              "<div>\n",
              "<style scoped>\n",
              "    .dataframe tbody tr th:only-of-type {\n",
              "        vertical-align: middle;\n",
              "    }\n",
              "\n",
              "    .dataframe tbody tr th {\n",
              "        vertical-align: top;\n",
              "    }\n",
              "\n",
              "    .dataframe thead th {\n",
              "        text-align: right;\n",
              "    }\n",
              "</style>\n",
              "<table border=\"1\" class=\"dataframe\">\n",
              "  <thead>\n",
              "    <tr style=\"text-align: right;\">\n",
              "      <th></th>\n",
              "      <th>V1</th>\n",
              "      <th>V2</th>\n",
              "      <th>V3</th>\n",
              "      <th>V4</th>\n",
              "      <th>V5</th>\n",
              "      <th>V6</th>\n",
              "      <th>V7</th>\n",
              "      <th>V8</th>\n",
              "      <th>V9</th>\n",
              "      <th>V10</th>\n",
              "      <th>V11</th>\n",
              "      <th>V12</th>\n",
              "      <th>V13</th>\n",
              "      <th>V14</th>\n",
              "      <th>V15</th>\n",
              "      <th>V16</th>\n",
              "      <th>V17</th>\n",
              "      <th>V18</th>\n",
              "      <th>V19</th>\n",
              "      <th>V20</th>\n",
              "      <th>V21</th>\n",
              "      <th>V22</th>\n",
              "      <th>V23</th>\n",
              "      <th>V24</th>\n",
              "      <th>V25</th>\n",
              "      <th>V26</th>\n",
              "      <th>V27</th>\n",
              "      <th>V28</th>\n",
              "      <th>Amount</th>\n",
              "      <th>Class</th>\n",
              "    </tr>\n",
              "  </thead>\n",
              "  <tbody>\n",
              "    <tr>\n",
              "      <th>0</th>\n",
              "      <td>-0.426154</td>\n",
              "      <td>0.064759</td>\n",
              "      <td>2.034158</td>\n",
              "      <td>-0.265603</td>\n",
              "      <td>-1.092591</td>\n",
              "      <td>-0.281123</td>\n",
              "      <td>0.195237</td>\n",
              "      <td>0.131432</td>\n",
              "      <td>0.471432</td>\n",
              "      <td>-0.742013</td>\n",
              "      <td>-0.900805</td>\n",
              "      <td>-0.563352</td>\n",
              "      <td>-0.941352</td>\n",
              "      <td>-0.250173</td>\n",
              "      <td>0.602176</td>\n",
              "      <td>0.342182</td>\n",
              "      <td>-0.188794</td>\n",
              "      <td>0.211834</td>\n",
              "      <td>0.066517</td>\n",
              "      <td>0.135000</td>\n",
              "      <td>0.187582</td>\n",
              "      <td>0.439275</td>\n",
              "      <td>0.069215</td>\n",
              "      <td>0.443261</td>\n",
              "      <td>-0.218428</td>\n",
              "      <td>1.068787</td>\n",
              "      <td>-0.049993</td>\n",
              "      <td>0.025481</td>\n",
              "      <td>100.00</td>\n",
              "      <td>0</td>\n",
              "    </tr>\n",
              "    <tr>\n",
              "      <th>1</th>\n",
              "      <td>1.166853</td>\n",
              "      <td>-0.247931</td>\n",
              "      <td>0.549775</td>\n",
              "      <td>0.166218</td>\n",
              "      <td>-0.711743</td>\n",
              "      <td>-0.456924</td>\n",
              "      <td>-0.488822</td>\n",
              "      <td>0.041760</td>\n",
              "      <td>1.697831</td>\n",
              "      <td>-0.309506</td>\n",
              "      <td>1.730897</td>\n",
              "      <td>-2.887524</td>\n",
              "      <td>-0.431462</td>\n",
              "      <td>2.185847</td>\n",
              "      <td>0.040721</td>\n",
              "      <td>0.818455</td>\n",
              "      <td>0.101872</td>\n",
              "      <td>0.739687</td>\n",
              "      <td>0.170749</td>\n",
              "      <td>-0.133222</td>\n",
              "      <td>-0.249949</td>\n",
              "      <td>-0.714633</td>\n",
              "      <td>0.039977</td>\n",
              "      <td>-0.062051</td>\n",
              "      <td>0.021172</td>\n",
              "      <td>0.839272</td>\n",
              "      <td>-0.122856</td>\n",
              "      <td>-0.006023</td>\n",
              "      <td>49.95</td>\n",
              "      <td>0</td>\n",
              "    </tr>\n",
              "    <tr>\n",
              "      <th>2</th>\n",
              "      <td>-0.643022</td>\n",
              "      <td>0.273467</td>\n",
              "      <td>1.708871</td>\n",
              "      <td>0.075233</td>\n",
              "      <td>-0.015607</td>\n",
              "      <td>-0.924860</td>\n",
              "      <td>0.590625</td>\n",
              "      <td>-0.083470</td>\n",
              "      <td>0.024000</td>\n",
              "      <td>-0.849202</td>\n",
              "      <td>-0.588534</td>\n",
              "      <td>0.775241</td>\n",
              "      <td>0.605020</td>\n",
              "      <td>-0.475577</td>\n",
              "      <td>-1.133477</td>\n",
              "      <td>-0.328836</td>\n",
              "      <td>-0.087434</td>\n",
              "      <td>-0.663261</td>\n",
              "      <td>-0.501951</td>\n",
              "      <td>0.055218</td>\n",
              "      <td>0.074493</td>\n",
              "      <td>0.262166</td>\n",
              "      <td>-0.018378</td>\n",
              "      <td>0.773391</td>\n",
              "      <td>0.127824</td>\n",
              "      <td>0.244459</td>\n",
              "      <td>-0.013017</td>\n",
              "      <td>0.041442</td>\n",
              "      <td>48.79</td>\n",
              "      <td>0</td>\n",
              "    </tr>\n",
              "    <tr>\n",
              "      <th>3</th>\n",
              "      <td>1.931794</td>\n",
              "      <td>-1.203632</td>\n",
              "      <td>-0.465100</td>\n",
              "      <td>-0.422098</td>\n",
              "      <td>-0.834082</td>\n",
              "      <td>0.515066</td>\n",
              "      <td>-1.074884</td>\n",
              "      <td>0.072867</td>\n",
              "      <td>0.334211</td>\n",
              "      <td>0.541189</td>\n",
              "      <td>-1.551769</td>\n",
              "      <td>0.535559</td>\n",
              "      <td>1.797563</td>\n",
              "      <td>-0.648091</td>\n",
              "      <td>0.768077</td>\n",
              "      <td>-0.953151</td>\n",
              "      <td>-0.714327</td>\n",
              "      <td>1.635955</td>\n",
              "      <td>-0.876907</td>\n",
              "      <td>-0.291043</td>\n",
              "      <td>-0.285607</td>\n",
              "      <td>-0.367182</td>\n",
              "      <td>0.206915</td>\n",
              "      <td>-0.050278</td>\n",
              "      <td>-0.396812</td>\n",
              "      <td>-0.429337</td>\n",
              "      <td>0.067211</td>\n",
              "      <td>-0.002385</td>\n",
              "      <td>109.84</td>\n",
              "      <td>0</td>\n",
              "    </tr>\n",
              "    <tr>\n",
              "      <th>4</th>\n",
              "      <td>-1.713437</td>\n",
              "      <td>1.992477</td>\n",
              "      <td>-1.282566</td>\n",
              "      <td>-0.826902</td>\n",
              "      <td>-0.414038</td>\n",
              "      <td>-0.709109</td>\n",
              "      <td>-0.225639</td>\n",
              "      <td>1.313910</td>\n",
              "      <td>-0.174464</td>\n",
              "      <td>0.008252</td>\n",
              "      <td>0.054034</td>\n",
              "      <td>1.107444</td>\n",
              "      <td>-0.043045</td>\n",
              "      <td>1.073849</td>\n",
              "      <td>-1.069899</td>\n",
              "      <td>0.480132</td>\n",
              "      <td>-0.256911</td>\n",
              "      <td>-0.118963</td>\n",
              "      <td>0.179061</td>\n",
              "      <td>0.021643</td>\n",
              "      <td>-0.196031</td>\n",
              "      <td>-0.633477</td>\n",
              "      <td>0.190692</td>\n",
              "      <td>-0.491007</td>\n",
              "      <td>-0.266904</td>\n",
              "      <td>0.171153</td>\n",
              "      <td>0.187619</td>\n",
              "      <td>0.072414</td>\n",
              "      <td>8.94</td>\n",
              "      <td>0</td>\n",
              "    </tr>\n",
              "  </tbody>\n",
              "</table>\n",
              "</div>"
            ],
            "text/plain": [
              "         V1        V2        V3        V4  ...       V27       V28  Amount  Class\n",
              "0 -0.426154  0.064759  2.034158 -0.265603  ... -0.049993  0.025481  100.00      0\n",
              "1  1.166853 -0.247931  0.549775  0.166218  ... -0.122856 -0.006023   49.95      0\n",
              "2 -0.643022  0.273467  1.708871  0.075233  ... -0.013017  0.041442   48.79      0\n",
              "3  1.931794 -1.203632 -0.465100 -0.422098  ...  0.067211 -0.002385  109.84      0\n",
              "4 -1.713437  1.992477 -1.282566 -0.826902  ...  0.187619  0.072414    8.94      0\n",
              "\n",
              "[5 rows x 30 columns]"
            ]
          },
          "metadata": {
            "tags": []
          },
          "execution_count": 19
        }
      ]
    },
    {
      "cell_type": "code",
      "metadata": {
        "colab": {
          "base_uri": "https://localhost:8080/"
        },
        "id": "7MwRo79tQSG6",
        "outputId": "2eb83150-835b-43f6-a4d3-f0ff81033ee4"
      },
      "source": [
        "train_minor = train[train.Class == 1]\n",
        "train_major = train[train.Class == 0]\n",
        "\n",
        "print('minor class in the training dataset:',train_minor['Class'].value_counts())\n",
        "print('major class in the training dataset:',train_major['Class'].value_counts())"
      ],
      "execution_count": 21,
      "outputs": [
        {
          "output_type": "stream",
          "text": [
            "minor class in the training dataset: 1    394\n",
            "Name: Class, dtype: int64\n",
            "major class in the training dataset: 0    227451\n",
            "Name: Class, dtype: int64\n"
          ],
          "name": "stdout"
        }
      ]
    },
    {
      "cell_type": "code",
      "metadata": {
        "id": "7crZwJPYQiaz"
      },
      "source": [
        "train_minor_up = resample(train_minor, replace=True, n_samples = 227451,random_state=123)"
      ],
      "execution_count": 22,
      "outputs": []
    },
    {
      "cell_type": "code",
      "metadata": {
        "colab": {
          "base_uri": "https://localhost:8080/"
        },
        "id": "waxVYW__Q4nn",
        "outputId": "fe6290db-5120-4bbd-8d44-db566c68b476"
      },
      "source": [
        "train = pd.concat([train_major,train_minor_up])\n",
        "train.Class.value_counts()"
      ],
      "execution_count": 23,
      "outputs": [
        {
          "output_type": "execute_result",
          "data": {
            "text/plain": [
              "1    227451\n",
              "0    227451\n",
              "Name: Class, dtype: int64"
            ]
          },
          "metadata": {
            "tags": []
          },
          "execution_count": 23
        }
      ]
    },
    {
      "cell_type": "code",
      "metadata": {
        "id": "LkKbO1XoQ7kv"
      },
      "source": [
        "x_train = train.drop(['Class'], axis = 1).values\n",
        "y_train = train['Class'].values"
      ],
      "execution_count": 24,
      "outputs": []
    },
    {
      "cell_type": "code",
      "metadata": {
        "colab": {
          "base_uri": "https://localhost:8080/"
        },
        "id": "MZdU36I7RKEx",
        "outputId": "68e8dca7-d8df-4358-dc49-66c9a4343d36"
      },
      "source": [
        "x_train.shape, y_train.shape, np.sum(y_train==1)"
      ],
      "execution_count": 25,
      "outputs": [
        {
          "output_type": "execute_result",
          "data": {
            "text/plain": [
              "((454902, 29), (454902,), 227451)"
            ]
          },
          "metadata": {
            "tags": []
          },
          "execution_count": 25
        }
      ]
    },
    {
      "cell_type": "markdown",
      "metadata": {
        "id": "6QFZ7n1YRLFa"
      },
      "source": [
        "# 3. ANN Model"
      ]
    },
    {
      "cell_type": "markdown",
      "metadata": {
        "id": "37VWjLm2RTys"
      },
      "source": [
        "## 3.1 Build Metrics & ANN Model"
      ]
    },
    {
      "cell_type": "code",
      "metadata": {
        "id": "n3OK9CdfRF-I"
      },
      "source": [
        "def recall_m(y_true, y_pred):\n",
        "    true_positives = K.sum(K.round(K.clip(y_true * y_pred, 0, 1)))\n",
        "    possible_positives = K.sum(K.round(K.clip(y_true, 0, 1)))\n",
        "    recall = true_positives / (possible_positives + K.epsilon())\n",
        "    return recall\n",
        "\n",
        "def precision_m(y_true, y_pred):\n",
        "    true_positives = K.sum(K.round(K.clip(y_true * y_pred, 0, 1)))\n",
        "    predicted_positives = K.sum(K.round(K.clip(y_pred, 0, 1)))\n",
        "    precision = true_positives / (predicted_positives + K.epsilon())\n",
        "    return precision\n",
        "\n",
        "def f1_m(y_true, y_pred):\n",
        "    precision = precision_m(y_true, y_pred)\n",
        "    recall = recall_m(y_true, y_pred)\n",
        "    return 2*((precision*recall)/(precision+recall+K.epsilon()))"
      ],
      "execution_count": 26,
      "outputs": []
    },
    {
      "cell_type": "code",
      "metadata": {
        "id": "iaf43NfdRjX5"
      },
      "source": [
        "model = Sequential()\n",
        "model.add(Dense(16, activation='tanh', input_dim=29))\n",
        "model.add(Dropout(0.1))\n",
        "model.add(Dense(4, activation='tanh'))\n",
        "model.add(Dropout(0.1))\n",
        "model.add(Dense(1, activation='sigmoid'))\n",
        "model.compile(optimizer='rmsprop',\n",
        "              loss='binary_crossentropy',\n",
        "              metrics=['accuracy',f1_m,precision_m, recall_m])"
      ],
      "execution_count": 28,
      "outputs": []
    },
    {
      "cell_type": "markdown",
      "metadata": {
        "id": "LuNGpHtyR1s5"
      },
      "source": [
        "## 3.2 Fit the Model"
      ]
    },
    {
      "cell_type": "code",
      "metadata": {
        "colab": {
          "base_uri": "https://localhost:8080/"
        },
        "id": "SRo3NPz8RxfC",
        "outputId": "5718fd9b-e0f7-48dc-cea8-49ff66cc17ba"
      },
      "source": [
        "model.fit(x_train,y_train, epochs=10, batch_size=16)\n",
        "loss, accuracy, f1_score, precision, recall = model.evaluate(x_test, y_test, verbose=1)\n",
        "print(f1_score)"
      ],
      "execution_count": 34,
      "outputs": [
        {
          "output_type": "stream",
          "text": [
            "Epoch 1/10\n",
            "28432/28432 [==============================] - 36s 1ms/step - loss: 0.0525 - accuracy: 0.9818 - f1_m: 0.9806 - precision_m: 0.9818 - recall_m: 0.9820\n",
            "Epoch 2/10\n",
            "28432/28432 [==============================] - 37s 1ms/step - loss: 0.0455 - accuracy: 0.9844 - f1_m: 0.9833 - precision_m: 0.9836 - recall_m: 0.9852\n",
            "Epoch 3/10\n",
            "28432/28432 [==============================] - 36s 1ms/step - loss: 0.0434 - accuracy: 0.9853 - f1_m: 0.9843 - precision_m: 0.9846 - recall_m: 0.9861\n",
            "Epoch 4/10\n",
            "28432/28432 [==============================] - 36s 1ms/step - loss: 0.0416 - accuracy: 0.9859 - f1_m: 0.9850 - precision_m: 0.9855 - recall_m: 0.9864\n",
            "Epoch 5/10\n",
            "28432/28432 [==============================] - 36s 1ms/step - loss: 0.0405 - accuracy: 0.9863 - f1_m: 0.9853 - precision_m: 0.9856 - recall_m: 0.9870\n",
            "Epoch 6/10\n",
            "28432/28432 [==============================] - 36s 1ms/step - loss: 0.0389 - accuracy: 0.9871 - f1_m: 0.9863 - precision_m: 0.9865 - recall_m: 0.9879\n",
            "Epoch 7/10\n",
            "28432/28432 [==============================] - 36s 1ms/step - loss: 0.0382 - accuracy: 0.9875 - f1_m: 0.9865 - precision_m: 0.9868 - recall_m: 0.9881\n",
            "Epoch 8/10\n",
            "28432/28432 [==============================] - 37s 1ms/step - loss: 0.0373 - accuracy: 0.9879 - f1_m: 0.9871 - precision_m: 0.9873 - recall_m: 0.9887\n",
            "Epoch 9/10\n",
            "28432/28432 [==============================] - 36s 1ms/step - loss: 0.0363 - accuracy: 0.9880 - f1_m: 0.9873 - precision_m: 0.9875 - recall_m: 0.9887\n",
            "Epoch 10/10\n",
            "28432/28432 [==============================] - 36s 1ms/step - loss: 0.0364 - accuracy: 0.9882 - f1_m: 0.9872 - precision_m: 0.9875 - recall_m: 0.9886\n",
            "1781/1781 [==============================] - 2s 947us/step - loss: 0.0245 - accuracy: 0.9927 - f1_m: 0.0437 - precision_m: 0.0423 - recall_m: 0.0469\n",
            "0.043702032417058945\n"
          ],
          "name": "stdout"
        }
      ]
    },
    {
      "cell_type": "code",
      "metadata": {
        "colab": {
          "base_uri": "https://localhost:8080/"
        },
        "id": "QiBaJFBTSI8c",
        "outputId": "7bd36878-79ff-4458-a578-462e48756f6b"
      },
      "source": [
        "y_predict = model.predict_classes(x_test)\n",
        "confusion_matrix(y_test,y_predict)"
      ],
      "execution_count": 35,
      "outputs": [
        {
          "output_type": "stream",
          "text": [
            "/usr/local/lib/python3.7/dist-packages/tensorflow/python/keras/engine/sequential.py:450: UserWarning: `model.predict_classes()` is deprecated and will be removed after 2021-01-01. Please use instead:* `np.argmax(model.predict(x), axis=-1)`,   if your model does multi-class classification   (e.g. if it uses a `softmax` last-layer activation).* `(model.predict(x) > 0.5).astype(\"int32\")`,   if your model does binary classification   (e.g. if it uses a `sigmoid` last-layer activation).\n",
            "  warnings.warn('`model.predict_classes()` is deprecated and '\n"
          ],
          "name": "stderr"
        },
        {
          "output_type": "execute_result",
          "data": {
            "text/plain": [
              "array([[56460,   404],\n",
              "       [   14,    84]])"
            ]
          },
          "metadata": {
            "tags": []
          },
          "execution_count": 35
        }
      ]
    },
    {
      "cell_type": "code",
      "metadata": {
        "colab": {
          "base_uri": "https://localhost:8080/"
        },
        "id": "w-mimDuJStu0",
        "outputId": "5def7a51-941c-4353-84a0-ac6271d7561c"
      },
      "source": [
        "print(classification_report(y_test, y_predict))"
      ],
      "execution_count": 36,
      "outputs": [
        {
          "output_type": "stream",
          "text": [
            "              precision    recall  f1-score   support\n",
            "\n",
            "           0       1.00      0.99      1.00     56864\n",
            "           1       0.17      0.86      0.29        98\n",
            "\n",
            "    accuracy                           0.99     56962\n",
            "   macro avg       0.59      0.93      0.64     56962\n",
            "weighted avg       1.00      0.99      1.00     56962\n",
            "\n"
          ],
          "name": "stdout"
        }
      ]
    },
    {
      "cell_type": "markdown",
      "metadata": {
        "id": "xFyBJUBvVCJB"
      },
      "source": [
        "## 3.3 Learning Curve"
      ]
    },
    {
      "cell_type": "code",
      "metadata": {
        "colab": {
          "base_uri": "https://localhost:8080/"
        },
        "id": "Q5t19-A4S5pa",
        "outputId": "2ec4578d-6825-468c-e63f-4f845ab8d96f"
      },
      "source": [
        "model.compile(optimizer = Adam(lr=0.0001), loss = 'binary_crossentropy', metrics = ['accuracy'])\n",
        "history = model.fit(x_train,y_train,epochs=10,validation_data=(x_test,y_test),verbose=1)"
      ],
      "execution_count": 39,
      "outputs": [
        {
          "output_type": "stream",
          "text": [
            "Epoch 1/10\n",
            "14216/14216 [==============================] - 20s 1ms/step - loss: 0.0315 - accuracy: 0.9894 - val_loss: 0.0245 - val_accuracy: 0.9929\n",
            "Epoch 2/10\n",
            "14216/14216 [==============================] - 20s 1ms/step - loss: 0.0300 - accuracy: 0.9901 - val_loss: 0.0240 - val_accuracy: 0.9927\n",
            "Epoch 3/10\n",
            "14216/14216 [==============================] - 19s 1ms/step - loss: 0.0298 - accuracy: 0.9902 - val_loss: 0.0217 - val_accuracy: 0.9935\n",
            "Epoch 4/10\n",
            "14216/14216 [==============================] - 20s 1ms/step - loss: 0.0293 - accuracy: 0.9903 - val_loss: 0.0220 - val_accuracy: 0.9936\n",
            "Epoch 5/10\n",
            "14216/14216 [==============================] - 19s 1ms/step - loss: 0.0283 - accuracy: 0.9906 - val_loss: 0.0225 - val_accuracy: 0.9934\n",
            "Epoch 6/10\n",
            "14216/14216 [==============================] - 20s 1ms/step - loss: 0.0291 - accuracy: 0.9906 - val_loss: 0.0213 - val_accuracy: 0.9938\n",
            "Epoch 7/10\n",
            "14216/14216 [==============================] - 19s 1ms/step - loss: 0.0286 - accuracy: 0.9907 - val_loss: 0.0213 - val_accuracy: 0.9939\n",
            "Epoch 8/10\n",
            "14216/14216 [==============================] - 20s 1ms/step - loss: 0.0285 - accuracy: 0.9907 - val_loss: 0.0206 - val_accuracy: 0.9942\n",
            "Epoch 9/10\n",
            "14216/14216 [==============================] - 19s 1ms/step - loss: 0.0281 - accuracy: 0.9908 - val_loss: 0.0206 - val_accuracy: 0.9939\n",
            "Epoch 10/10\n",
            "14216/14216 [==============================] - 19s 1ms/step - loss: 0.0283 - accuracy: 0.9908 - val_loss: 0.0221 - val_accuracy: 0.9935\n"
          ],
          "name": "stdout"
        }
      ]
    },
    {
      "cell_type": "code",
      "metadata": {
        "id": "73Mj2fAZVKgU"
      },
      "source": [
        "def learningcurve(history,epoch):\n",
        "    epoch_range = range(1,epoch+1)\n",
        "    plt.plot(epoch_range,history.history['accuracy'])\n",
        "    plt.plot(epoch_range,history.history['val_accuracy'])\n",
        "    plt.title('Model_Accuracy')\n",
        "    plt.ylabel('Accuracy')\n",
        "    plt.xlabel('Epoch')\n",
        "    plt.legend(['Train','Test'],loc='best')\n",
        "    plt.show()\n",
        "    \n",
        "    plt.plot(epoch_range,history.history['loss'])\n",
        "    plt.plot(epoch_range,history.history['val_loss'])\n",
        "    plt.title('Model_Loss')\n",
        "    plt.ylabel('Loss')\n",
        "    plt.xlabel('Epoch')\n",
        "    plt.legend(['Train','Test'],loc='best')\n",
        "    plt.show()"
      ],
      "execution_count": 40,
      "outputs": []
    },
    {
      "cell_type": "code",
      "metadata": {
        "colab": {
          "base_uri": "https://localhost:8080/",
          "height": 573
        },
        "id": "yth5zJMBVVi0",
        "outputId": "095f4be1-c93f-4aef-e342-6ff30ef19bc3"
      },
      "source": [
        "learningcurve(history,10)"
      ],
      "execution_count": 41,
      "outputs": [
        {
          "output_type": "display_data",
          "data": {
            "image/png": "[encoded data removed]",
            "text/plain": [
              "<Figure size 432x288 with 1 Axes>"
            ]
          },
          "metadata": {
            "tags": [],
            "needs_background": "light"
          }
        },
        {
          "output_type": "display_data",
          "data": {
            "image/png": "[encoded data removed]",
            "text/plain": [
              "<Figure size 432x288 with 1 Axes>"
            ]
          },
          "metadata": {
            "tags": [],
            "needs_background": "light"
          }
        }
      ]
    },
    {
      "cell_type": "markdown",
      "metadata": {
        "id": "vK_Xr-quVYiP"
      },
      "source": [
        "# 4. Logistic Regression"
      ]
    },
    {
      "cell_type": "code",
      "metadata": {
        "colab": {
          "base_uri": "https://localhost:8080/"
        },
        "id": "NtLfHfd3VXvr",
        "outputId": "6ac0d6a7-ddd3-4c70-b71b-48c89596b782"
      },
      "source": [
        "logreg = LogisticRegression()\n",
        "logreg.fit(x_train, y_train)\n",
        "lr_prediction = logreg.predict(x_test)"
      ],
      "execution_count": 42,
      "outputs": [
        {
          "output_type": "stream",
          "text": [
            "/usr/local/lib/python3.7/dist-packages/sklearn/linear_model/_logistic.py:940: ConvergenceWarning: lbfgs failed to converge (status=1):\n",
            "STOP: TOTAL NO. of ITERATIONS REACHED LIMIT.\n",
            "\n",
            "Increase the number of iterations (max_iter) or scale the data as shown in:\n",
            "    https://scikit-learn.org/stable/modules/preprocessing.html\n",
            "Please also refer to the documentation for alternative solver options:\n",
            "    https://scikit-learn.org/stable/modules/linear_model.html#logistic-regression\n",
            "  extra_warning_msg=_LOGISTIC_SOLVER_CONVERGENCE_MSG)\n"
          ],
          "name": "stderr"
        }
      ]
    },
    {
      "cell_type": "code",
      "metadata": {
        "colab": {
          "base_uri": "https://localhost:8080/"
        },
        "id": "zFsav-X6VfBO",
        "outputId": "1f915ed7-ef0d-458e-9b33-e76df570605d"
      },
      "source": [
        "from sklearn.metrics import classification_report\n",
        "print(classification_report(y_test,lr_prediction))"
      ],
      "execution_count": 43,
      "outputs": [
        {
          "output_type": "stream",
          "text": [
            "              precision    recall  f1-score   support\n",
            "\n",
            "           0       1.00      0.97      0.99     56864\n",
            "           1       0.06      0.91      0.11        98\n",
            "\n",
            "    accuracy                           0.97     56962\n",
            "   macro avg       0.53      0.94      0.55     56962\n",
            "weighted avg       1.00      0.97      0.99     56962\n",
            "\n"
          ],
          "name": "stdout"
        }
      ]
    },
    {
      "cell_type": "markdown",
      "metadata": {
        "id": "TO9mpfPLVhaW"
      },
      "source": [
        "# 5. Random Forest Classification"
      ]
    },
    {
      "cell_type": "code",
      "metadata": {
        "colab": {
          "base_uri": "https://localhost:8080/"
        },
        "id": "qyoe9RFdVgIM",
        "outputId": "1ee2b0cd-7d08-4fee-b82e-f4d81de7bc31"
      },
      "source": [
        "clf = RandomForestClassifier()\n",
        "clf.fit(x_train,y_train)"
      ],
      "execution_count": 44,
      "outputs": [
        {
          "output_type": "execute_result",
          "data": {
            "text/plain": [
              "RandomForestClassifier(bootstrap=True, ccp_alpha=0.0, class_weight=None,\n",
              "                       criterion='gini', max_depth=None, max_features='auto',\n",
              "                       max_leaf_nodes=None, max_samples=None,\n",
              "                       min_impurity_decrease=0.0, min_impurity_split=None,\n",
              "                       min_samples_leaf=1, min_samples_split=2,\n",
              "                       min_weight_fraction_leaf=0.0, n_estimators=100,\n",
              "                       n_jobs=None, oob_score=False, random_state=None,\n",
              "                       verbose=0, warm_start=False)"
            ]
          },
          "metadata": {
            "tags": []
          },
          "execution_count": 44
        }
      ]
    },
    {
      "cell_type": "code",
      "metadata": {
        "colab": {
          "base_uri": "https://localhost:8080/"
        },
        "id": "ZddPDZEvVnEW",
        "outputId": "094b573f-5c9e-4bbe-905c-ebc5fbb439a4"
      },
      "source": [
        "clf_y_prediction = clf.predict(x_test)\n",
        "print(classification_report(y_test,clf_y_prediction))"
      ],
      "execution_count": 45,
      "outputs": [
        {
          "output_type": "stream",
          "text": [
            "              precision    recall  f1-score   support\n",
            "\n",
            "           0       1.00      1.00      1.00     56864\n",
            "           1       0.95      0.73      0.83        98\n",
            "\n",
            "    accuracy                           1.00     56962\n",
            "   macro avg       0.97      0.87      0.91     56962\n",
            "weighted avg       1.00      1.00      1.00     56962\n",
            "\n"
          ],
          "name": "stdout"
        }
      ]
    },
    {
      "cell_type": "markdown",
      "metadata": {
        "id": "a1BV0EEBVqLo"
      },
      "source": [
        "# 6. ROC Curve"
      ]
    },
    {
      "cell_type": "code",
      "metadata": {
        "id": "J5KP1tCDVomB"
      },
      "source": [
        "clf_probs = clf.predict_proba(x_test)[:, 1]\n",
        "lr_probs = logreg.predict_proba(x_test)[:,1]\n",
        "ns_probs = [0 for _ in range(len(x_test))]"
      ],
      "execution_count": 46,
      "outputs": []
    },
    {
      "cell_type": "code",
      "metadata": {
        "id": "ZSlCzS9KV3m4"
      },
      "source": [
        "ns_fpr, ns_tpr, _ = roc_curve(y_test, ns_probs)\n",
        "clf_fpr, clf_tpr, _ = roc_curve(y_test, clf_probs)\n",
        "lr_fpr, lr_tpr, _ = roc_curve(y_test, lr_probs)"
      ],
      "execution_count": 48,
      "outputs": []
    },
    {
      "cell_type": "code",
      "metadata": {
        "colab": {
          "base_uri": "https://localhost:8080/"
        },
        "id": "kjBT_eRQVyX2",
        "outputId": "ed951b4e-5d89-4d10-a8d7-65dc2bc23f09"
      },
      "source": [
        "ann_probs = model.predict_proba(x_test)\n",
        "ann_fpr, ann_tpr, _ = roc_curve(y_test, ann_probs)"
      ],
      "execution_count": 47,
      "outputs": [
        {
          "output_type": "stream",
          "text": [
            "/usr/local/lib/python3.7/dist-packages/tensorflow/python/keras/engine/sequential.py:425: UserWarning: `model.predict_proba()` is deprecated and will be removed after 2021-01-01. Please use `model.predict()` instead.\n",
            "  warnings.warn('`model.predict_proba()` is deprecated and '\n"
          ],
          "name": "stderr"
        }
      ]
    },
    {
      "cell_type": "code",
      "metadata": {
        "colab": {
          "base_uri": "https://localhost:8080/",
          "height": 279
        },
        "id": "p9iOatE_V6mw",
        "outputId": "ca2d8b44-edbf-4824-e8bc-3fbbd445892c"
      },
      "source": [
        "pyplot.plot(ns_fpr, ns_tpr, linestyle='--', label='No Skill')\n",
        "pyplot.plot(clf_fpr, clf_tpr, linestyle='-', label='RandomForest Classifier')\n",
        "pyplot.plot(lr_fpr, lr_tpr, linestyle='-', label='Logistic Regression')\n",
        "pyplot.plot(ann_fpr, ann_tpr, linestyle='-.', label='ANN')\n",
        "pyplot.xlabel('False Positive Rate')\n",
        "pyplot.ylabel('True Positive Rate')\n",
        "pyplot.legend()\n",
        "pyplot.show()"
      ],
      "execution_count": 49,
      "outputs": [
        {
          "output_type": "display_data",
          "data": {
            "image/png": "[encoded data removed]",
            "text/plain": [
              "<Figure size 432x288 with 1 Axes>"
            ]
          },
          "metadata": {
            "tags": [],
            "needs_background": "light"
          }
        }
      ]
    },
    {
      "cell_type": "code",
      "metadata": {
        "id": "dNb166fnV_9Z"
      },
      "source": [
        ""
      ],
      "execution_count": null,
      "outputs": []
    }
  ]
}